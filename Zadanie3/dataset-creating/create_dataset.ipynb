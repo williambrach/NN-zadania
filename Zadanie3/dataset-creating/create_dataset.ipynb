{
 "metadata": {
  "language_info": {
   "codemirror_mode": {
    "name": "ipython",
    "version": 3
   },
   "file_extension": ".py",
   "mimetype": "text/x-python",
   "name": "python",
   "nbconvert_exporter": "python",
   "pygments_lexer": "ipython3",
   "version": "3.8.3-final"
  },
  "orig_nbformat": 2,
  "kernelspec": {
   "name": "python383jvsc74a57bd0b3ba2566441a7c06988d0923437866b63cedc61552a5af99d1f4fb67d367b25f",
   "display_name": "Python 3.8.3 64-bit (conda)"
  }
 },
 "nbformat": 4,
 "nbformat_minor": 2,
 "cells": [
  {
   "cell_type": "code",
   "execution_count": 9,
   "metadata": {},
   "outputs": [],
   "source": [
    "#\n",
    "import requests\n",
    "from bs4 import BeautifulSoup\n",
    "import urllib.request\n",
    "import json\n",
    "import csv\n",
    "import pandas as pd"
   ]
  },
  {
   "cell_type": "code",
   "execution_count": 3,
   "metadata": {},
   "outputs": [],
   "source": [
    "from selenium import webdriver\n",
    "from selenium.webdriver.common.by import By\n",
    "from selenium.webdriver.common.keys import Keys\n",
    "from selenium.webdriver.support.ui import WebDriverWait\n",
    "from selenium.webdriver.support.expected_conditions import presence_of_element_located\n",
    "import time\n",
    "from selenium.webdriver.chrome.options import Options\n"
   ]
  },
  {
   "cell_type": "code",
   "execution_count": 4,
   "metadata": {},
   "outputs": [],
   "source": [
    "#https://www.alko.fi/en/products/934133/Zuccardi-Finca-Piedra-Infinita-Supercal-2016/\n",
    "async def  getWine(url):\n",
    "    url = url\n",
    "    headers = requests.utils.default_headers()\n",
    "    headers.update({\n",
    "        'User-Agent': 'Mozilla/5.0 (X11; Ubuntu; Linux x86_64; rv:52.0) Gecko/20100101 Firefox/52.0',\n",
    "    })\n",
    "    response = requests.get(url,  headers=headers)\n",
    "\n",
    "    # if int(response.status_code) != 200:\n",
    "    #     return\n",
    "\n",
    "    soup=BeautifulSoup(response.content, \"html.parser\")\n",
    "    # DETAILS\n",
    "    mostplayed=soup.findAll(\"div\", {\"class\": \"hard-facts\"})\n",
    "    vineStat = dict()\n",
    "\n",
    "    for ul in mostplayed:\n",
    "        for li in ul.findAll('li'):\n",
    "            label = li.find(\"div\", {\"class\" : \"fact-label\"}).text.strip()\n",
    "            data = li.find(\"div\", {\"class\" : \"fact-data\"}).text.strip().replace(\"\\xa0\",\" \")\n",
    "            vineStat[label] = data\n",
    "\n",
    "    # Food pairings        \n",
    "    pairingWeb=soup.findAll(\"ul\", {\"class\": \"food-pairings\"})\n",
    "    foodPairings = []\n",
    "    for ul in pairingWeb:\n",
    "        for a in ul.findAll('a'):\n",
    "            try:\n",
    "                food = json.loads(a['data-applied-filters'][1:-1])\n",
    "                foodPairings.append(food['filterValue'])\n",
    "                \n",
    "            except:\n",
    "                pass\n",
    "    foodPairings = list(set(foodPairings))\n",
    "\n",
    "\n",
    "    # tastes\n",
    "    tastes=soup.findAll(\"div\", {\"class\": \"html-print\"})\n",
    "    text = \"\"\n",
    "    topNotch = \"\"\n",
    "    tips = \"\"\n",
    "    try:\n",
    "        text = tastes[3:5][1].text.strip().replace(\"\\n\", \" \")\n",
    "        topNotch = tastes[3:5][0].text.strip()\n",
    "        tips = tastes[5:6][0].text.strip().replace(\"\\n\", \" \")\n",
    "    except:\n",
    "        pass\n",
    "    return {\n",
    "        'pairings' : foodPairings,\n",
    "        'stats' : vineStat,\n",
    "        'text' : text,\n",
    "        'topNotch' : topNotch,\n",
    "        'tips' : tips\n",
    "\n",
    "    }"
   ]
  },
  {
   "cell_type": "code",
   "execution_count": 7,
   "metadata": {
    "tags": []
   },
   "outputs": [
    {
     "output_type": "stream",
     "name": "stdout",
     "text": [
      "Starting wine rose\n",
      "DONE WINE rose\n",
      "Starting wine red\n",
      "DONE WINE red\n",
      "Starting wine sparkling\n",
      "DONE WINE sparkling\n",
      "Starting wine white\n",
      "DONE WINE white\n"
     ]
    }
   ],
   "source": [
    "#files = [(\"box\", \"box308\"), (\"desert\", \"desert463\"), (\"red\", \"red2955\"), (\"rose\", \"rose364\"), (\"sparkling\", \"sparkling1281\"), (\"white\", \"white2086\")]\n",
    "files = [(\"rose\", \"rose364\"),(\"red\", \"red2955\"),  (\"sparkling\", \"sparkling1281\"), (\"white\", \"white2086\")]\n",
    "\n",
    "for wine in files:\n",
    "    print(\"Starting wine \"+wine[0])\n",
    "    with open('dataset_'+wine[0]+'.csv', 'w', newline='',encoding='utf-8') as csv_file:\n",
    "        writer = csv.writer(csv_file)\n",
    "        writer.writerow([\"type\", \"link\", \"pair\", \"PRODUCT NUMBER\", \"ALCOHOL\", \"SUGAR\", \"ACIDS\", \"ENERGY\", \"PRICE / LITRE\", \"MORE INFORMATION\", \"ADDITIONAL INFORMATION\", \"INGREDIENTS DECLARED BY THE PRODUCER\", \"PACKAGING\", \"CLOSURE\", \"PRODUCER\", \"SUPPLIER\", \"SELECTION\", \"text\", \"topNotch\", \"tips\" ])\n",
    "        fileName = wine[1]\n",
    "        wineType = wine[0]\n",
    "        f = open(fileName+\".txt\", \"r\",encoding='utf-8')\n",
    "        lines = f.readlines()\n",
    "        for url in lines: \n",
    "            response = await getWine(url.strip())\n",
    "\n",
    "            for pair in response['pairings']:\n",
    "                writer.writerow([wineType,\n",
    "                                url,\n",
    "                                pair,\n",
    "                                response['stats'][\"PRODUCT NUMBER\"] if \"PRODUCT NUMBER\" in response['stats'] else \"\",\n",
    "                                response['stats'][\"ALCOHOL\"] if \"ALCOHOL\" in response['stats'] else \"\",\n",
    "                                response['stats'][\"SUGAR\"] if \"SUGAR\" in response['stats'] else \"\",\n",
    "                                response['stats'][\"ACIDS\"] if \"ACIDS\" in response['stats'] else \"\",\n",
    "                                response['stats'][\"ENERGY\"] if \"ENERGY\" in response['stats'] else \"\",\n",
    "                                response['stats'][\"PRICE / LITRE\"] if \"PRICE / LITRE\" in response['stats'] else \"\",\n",
    "                                response['stats'][\"MORE INFORMATION\"] if \"MORE INFORMATION\" in response['stats'] else \"\",\n",
    "                                response['stats'][\"ADDITIONAL INFORMATION\"] if \"ADDITIONAL INFORMATION\" in response['stats'] else \"\",\n",
    "                                response['stats'][\"INGREDIENTS DECLARED BY THE PRODUCER\"] if \"INGREDIENTS DECLARED BY THE PRODUCER\" in response['stats'] else \"\",\n",
    "                                response['stats'][\"PACKAGING\"] if \"PACKAGING\" in response['stats'] else \"\",\n",
    "                                response['stats'][\"CLOSURE\"] if \"CLOSURE\" in response['stats'] else \"\",\n",
    "                                response['stats'][\"PRODUCER\"] if \"PRODUCER\" in response['stats'] else \"\",\n",
    "                                response['stats'][\"SUPPLIER\"] if \"SUPPLIER\" in response['stats'] else \"\",\n",
    "                                response['stats'][\"SELECTION\"] if \"SELECTION\" in response['stats'] else \"\",\n",
    "                                response['text'],\n",
    "                                response['topNotch'],\n",
    "                                response['tips']                             \n",
    "                                \n",
    "                                ])\n",
    "        f.close()\n",
    "    print(\"DONE WINE \"+wine[0])\n",
    "            \n"
   ]
  },
  {
   "cell_type": "code",
   "execution_count": 11,
   "metadata": {},
   "outputs": [],
   "source": [
    "df1 = pd.read_csv(\"dataset_box.csv\")\n",
    "df2 = pd.read_csv(\"dataset_desert.csv\")\n",
    "df3 = pd.read_csv(\"dataset_red.csv\")\n",
    "df4 = pd.read_csv(\"dataset_rose.csv\")\n",
    "df5 = pd.read_csv(\"dataset_sparkling.csv\")\n",
    "df6 = pd.read_csv(\"dataset_white.csv\")"
   ]
  },
  {
   "cell_type": "code",
   "execution_count": 13,
   "metadata": {},
   "outputs": [],
   "source": [
    "frames = [df1, df2, df3, df4, df5, df6]\n",
    "\n",
    "result = pd.concat(frames)"
   ]
  },
  {
   "cell_type": "code",
   "execution_count": 15,
   "metadata": {},
   "outputs": [],
   "source": [
    "result.to_csv(\"dataset_all.csv\")"
   ]
  },
  {
   "cell_type": "code",
   "execution_count": 28,
   "metadata": {},
   "outputs": [
    {
     "output_type": "execute_result",
     "data": {
      "text/plain": [
       "0       Full-bodied, medium tannic, blackberry notes, ...\n",
       "1       Full-bodied, medium tannic, blackberry notes, ...\n",
       "2       Full-bodied, medium tannic, blackberry notes, ...\n",
       "3       Full-bodied, medium tannic, blackberry notes, ...\n",
       "4       Medium sweet, medium acidic, honey melon notes...\n",
       "                              ...                        \n",
       "9031    Medium sweet, medium acidic, tropical fruit no...\n",
       "9032    Medium sweet, medium acidic, tropical fruit no...\n",
       "9033    Medium sweet, medium acidic, tropical fruit no...\n",
       "9034    Medium sweet, medium acidic, tropical fruit no...\n",
       "9035    Medium sweet, medium acidic, tropical fruit no...\n",
       "Name: topNotch, Length: 30252, dtype: object"
      ]
     },
     "metadata": {},
     "execution_count": 28
    }
   ],
   "source": [
    "result['topNotch']"
   ]
  },
  {
   "cell_type": "code",
   "execution_count": 55,
   "metadata": {},
   "outputs": [],
   "source": [
    "def fuc(row):\n",
    "    notches = row.split(',')\n",
    "    for n in notches:\n",
    "        flavorDic[n.strip()] = 0 \n",
    "\n",
    "    flavorDicF[notches[0]] = 0\n",
    "\n",
    "x = result['topNotch']\n",
    "flavorDic = dict()\n",
    "flavorDicF = dict()\n",
    "a = x.apply(lambda row : fuc(row) )"
   ]
  },
  {
   "cell_type": "code",
   "execution_count": 56,
   "metadata": {},
   "outputs": [
    {
     "output_type": "stream",
     "name": "stdout",
     "text": [
      "medium acidic\n",
      "acidic\n",
      "very acidic\n",
      "slightly acidic\n"
     ]
    }
   ],
   "source": [
    "for key in flavorDic.keys():\n",
    "  if \"acid\"  in key:\n",
    "    print(key)"
   ]
  },
  {
   "cell_type": "code",
   "execution_count": 57,
   "metadata": {},
   "outputs": [
    {
     "output_type": "stream",
     "name": "stdout",
     "text": [
      "Full-bodied\nMedium sweet\nDry\nMedium-bodied\nMedium dry\nSweet\nLight-bodied\nYellowy brown\nCinnamon-brown\nDark red\nAmber-brown\nRed\nOrange\nBrown\nRichly red\nReddish brown\nBright red\nChestnut brown\nMahogany-brown\nCopper-red\nPale\nPale yellow\nBrick-red\nBrownish-red\nGolden-yellow\nAmber-yellow\nGolden brown\nCopper-brown\nOrange-yellow\n\nPink\nCoffee-brown\nSweet \nLight greenish yellow\nAmber-orange\nViolet\nBrut\nSorrel notes\nGreen-yellow\nPurple\nLight brown\nCopper-yellow\nNut-brown\nBrownish-yellow\nExtra full-bodied\nYellow\nReddish\nDark brown\nMedium full bodied\nBright yellow\nReddish violet\nVery dry\n"
     ]
    }
   ],
   "source": [
    "for key in flavorDicF.keys():\n",
    "    print(key)"
   ]
  },
  {
   "cell_type": "code",
   "execution_count": 7,
   "metadata": {
    "tags": []
   },
   "outputs": [],
   "source": [
    "def getLinks(fileName, url):\n",
    "    option = Options()\n",
    "\n",
    "    option.add_argument(\"--disable-infobars\")\n",
    "    option.add_argument(\"start-maximized\")\n",
    "    option.add_argument(\"--disable-extensions\")\n",
    "\n",
    "    # Pass the argument 1 to allow and 2 to block\n",
    "    option.add_experimental_option(\"prefs\", { \n",
    "        \"profile.default_content_setting_values.notifications\": 1 \n",
    "    })\n",
    "\n",
    "    with webdriver.Chrome(chrome_options=option,executable_path=r\"C:\\Users\\ramang\\Developer\\NN-zadania\\Zadanie2\\dataset-creating\\chromedriver_win32\\chromedriver.exe\") as driver:\n",
    "        wait = WebDriverWait(driver, 30)\n",
    "        driver.get(url)   \n",
    "        SCROLL_PAUSE_TIME = 1\n",
    "\n",
    "        # Get scroll height\n",
    "        last_height = driver.execute_script(\"return document.body.scrollHeight\")\n",
    "        while True:\n",
    "            # Scroll down to bottom\n",
    "            driver.execute_script(\"window.scrollTo(0, document.body.scrollHeight);\")\n",
    "\n",
    "            # Wait to load page\n",
    "            time.sleep(SCROLL_PAUSE_TIME)\n",
    "\n",
    "            # Calculate new scroll height and compare with last scroll height\n",
    "            new_height = driver.execute_script(\"return document.body.scrollHeight\")\n",
    "\n",
    "    #        searchResult =  driver.find_elements(By.CLASS_NAME , \"row product-list\")\n",
    "\n",
    "\n",
    "            if new_height == last_height:\n",
    "                break\n",
    "            last_height = new_height\n",
    "        searchResult =  driver.find_elements(By.CLASS_NAME , \"mini-card\")\n",
    "        print(len(searchResult))\n",
    "        f= open(fileName+str(len(searchResult))+\".txt\",\"w+\")\n",
    "        for result in searchResult:\n",
    "            for x in result.find_elements_by_class_name(\"js-product-link\"):\n",
    "                f.write(x.get_attribute('href')+\" \\n\")\n",
    "        f.close()"
   ]
  },
  {
   "cell_type": "code",
   "execution_count": 8,
   "metadata": {},
   "outputs": [],
   "source": [
    "# ROSE WINES \n",
    "#https://www.alko.fi/en/products/ros%C3%A9-wine\n",
    "#getLinks(\"rose\", \"https://www.alko.fi/en/products/ros%C3%A9-wine\")\n",
    "\n",
    "# WHITE WINES\n",
    "#getLinks(\"white\", \"https://www.alko.fi/en/products/white-wine\")\n",
    "\n",
    "# RED WINES\n",
    "#getLinks(\"red\", \"https://www.alko.fi/en/products/red-wine\")\n",
    "\n",
    "# CHAMPANE - Sparkling wines\n",
    "#https://www.alko.fi/en/products/sparkling-wine-and-champagne\n",
    "#getLinks(\"sparkling\", \"https://www.alko.fi/en/products/sparkling-wine-and-champagne\")\n",
    "\n",
    "# DESERT wines\n",
    "# https://www.alko.fi/en/products/dessert-wine-and-other-fortified-wines\n",
    "#getLinks(\"desert\", \"https://www.alko.fi/en/products/dessert-wine-and-other-fortified-wines\")\n",
    "# BAG\n",
    "# https://www.alko.fi/en/products/bag-in-box-wines\n",
    "#getLinks(\"box\", \"https://www.alko.fi/en/products/bag-in-box-wines\")"
   ]
  }
 ]
}
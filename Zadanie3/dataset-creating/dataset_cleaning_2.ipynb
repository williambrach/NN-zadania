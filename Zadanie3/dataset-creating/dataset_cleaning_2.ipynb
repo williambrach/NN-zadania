{
 "metadata": {
  "language_info": {
   "codemirror_mode": {
    "name": "ipython",
    "version": 3
   },
   "file_extension": ".py",
   "mimetype": "text/x-python",
   "name": "python",
   "nbconvert_exporter": "python",
   "pygments_lexer": "ipython3",
   "version": "3.8.3"
  },
  "orig_nbformat": 2,
  "kernelspec": {
   "name": "python383jvsc74a57bd0b3ba2566441a7c06988d0923437866b63cedc61552a5af99d1f4fb67d367b25f",
   "display_name": "Python 3.8.3 64-bit (conda)"
  }
 },
 "nbformat": 4,
 "nbformat_minor": 2,
 "cells": [
  {
   "cell_type": "code",
   "execution_count": 46,
   "metadata": {},
   "outputs": [],
   "source": [
    "import pandas as pd"
   ]
  },
  {
   "cell_type": "code",
   "execution_count": 47,
   "metadata": {},
   "outputs": [],
   "source": [
    "df = pd.read_csv(\"dataset_all_cleaned_2.csv\",index_col=0)\n",
    "df2 = pd.read_csv(\"food.csv\")\n",
    "df2 = df2.fillna(0)\n",
    "for x in df2.columns[1:]:\n",
    "    df[x] = 0"
   ]
  },
  {
   "cell_type": "code",
   "execution_count": 28,
   "metadata": {},
   "outputs": [],
   "source": []
  },
  {
   "cell_type": "code",
   "execution_count": 48,
   "metadata": {
    "tags": []
   },
   "outputs": [],
   "source": [
    "for index, row in df.iterrows():\n",
    "    pair = row['pair']\n",
    "    if pair in df2['food'].unique():\n",
    "        xx = df2[df2['food'] == pair]\n",
    "        for column in xx.columns[1:]:\n",
    "            try:\n",
    "                df.at[index,column] = int(xx[column])\n",
    "            except:\n",
    "                print(\"f\")\n",
    "                "
   ]
  },
  {
   "source": [
    "df = df.drop(columns={\"text\", \"topNotch\", \"tips\",\"index\"})"
   ],
   "cell_type": "code",
   "metadata": {},
   "execution_count": 50,
   "outputs": []
  },
  {
   "cell_type": "code",
   "execution_count": 51,
   "metadata": {},
   "outputs": [],
   "source": [
    "#df = df.drop(columns={\"pair\"})"
   ]
  },
  {
   "cell_type": "code",
   "execution_count": 55,
   "metadata": {},
   "outputs": [
    {
     "output_type": "execute_result",
     "data": {
      "text/plain": [
       "array(['casseroles', 'pasta and pizza', 'party wine', 'beef',\n",
       "       'chicken, turkey', 'salads, vegetarian food', 'oriental food',\n",
       "       'buffet', 'mild sausages', 'pork', 'grilled food',\n",
       "       'spicy and meaty sausages', 'savoury snacks',\n",
       "       'tapas and antipasti', 'berries and fruits', 'hot food',\n",
       "       'fatty fish', 'seafood', 'lean fish', 'aperitif', 'sushi',\n",
       "       'mild cheeses', 'strong cheeses', 'mutton, lamb',\n",
       "       'meditation beverage', 'sweet desserts',\n",
       "       'clams, mussels, scallops and oysters', 'game', 'liver', 'blini',\n",
       "       'chocolate desserts', 'metal screw cap', 'mushrooms', 'soups',\n",
       "       'game birds', 'synthetic cork'], dtype=object)"
      ]
     },
     "metadata": {},
     "execution_count": 55
    }
   ],
   "source": [
    "df['pair'].unique()"
   ]
  },
  {
   "cell_type": "code",
   "execution_count": 53,
   "metadata": {},
   "outputs": [],
   "source": [
    "winetypes = ['box', 'desert', 'red', 'rose', 'sparkling', 'white']\n",
    "for wine in winetypes:\n",
    "    df[wine] = df.apply(lambda x : 1 if x['type'] == wine else 0,axis=1)"
   ]
  },
  {
   "cell_type": "code",
   "execution_count": 58,
   "metadata": {},
   "outputs": [],
   "source": [
    "df = df[df.pair != \"metal screw cap\"]\n",
    "df = df[df.pair != \"synthetic cork\"]\n",
    "df = df[df.pair != \"aperitif\"]\n",
    "df = df[df.pair != \"meditation beverage\"]"
   ]
  },
  {
   "cell_type": "code",
   "execution_count": 60,
   "metadata": {},
   "outputs": [],
   "source": [
    "df = df.drop(columns={\"pair\"})"
   ]
  },
  {
   "cell_type": "code",
   "execution_count": 62,
   "metadata": {},
   "outputs": [],
   "source": [
    "df = df.drop(columns={\"type\"})"
   ]
  },
  {
   "cell_type": "code",
   "execution_count": 64,
   "metadata": {},
   "outputs": [],
   "source": [
    "df.reset_index(inplace = True)"
   ]
  },
  {
   "cell_type": "code",
   "execution_count": 66,
   "metadata": {},
   "outputs": [],
   "source": [
    "df.to_csv(\"dataset_done.csv\")"
   ]
  }
 ]
}
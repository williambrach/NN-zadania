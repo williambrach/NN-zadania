{
 "metadata": {
  "language_info": {
   "codemirror_mode": {
    "name": "ipython",
    "version": 3
   },
   "file_extension": ".py",
   "mimetype": "text/x-python",
   "name": "python",
   "nbconvert_exporter": "python",
   "pygments_lexer": "ipython3",
   "version": "3.8.3"
  },
  "orig_nbformat": 2,
  "kernelspec": {
   "name": "python383jvsc74a57bd0b3ba2566441a7c06988d0923437866b63cedc61552a5af99d1f4fb67d367b25f",
   "display_name": "Python 3.8.3 64-bit (conda)"
  }
 },
 "nbformat": 4,
 "nbformat_minor": 2,
 "cells": [
  {
   "cell_type": "code",
   "execution_count": 1,
   "metadata": {},
   "outputs": [],
   "source": [
    "import pandas as pd"
   ]
  },
  {
   "cell_type": "code",
   "execution_count": 2,
   "metadata": {},
   "outputs": [],
   "source": [
    "df = pd.read_csv(\"dataset_all.csv\",index_col=0)\n",
    "df.reset_index(inplace = True)\n",
    "df = df.drop(columns=['link', 'PRODUCT NUMBER', 'MORE INFORMATION', 'ADDITIONAL INFORMATION', 'PACKAGING', 'CLOSURE', 'PRODUCER', 'SUPPLIER','SELECTION','INGREDIENTS DECLARED BY THE PRODUCER', 'PRICE / LITRE'])\n",
    "df['ALCOHOL'] = df['ALCOHOL'].apply( lambda x : float(x.split('%')[0]))\n",
    "df['SUGAR'] = df['SUGAR'].fillna(-1)\n",
    "df['SUGAR'] = df['SUGAR'].apply( lambda x : float(x.split('g/l')[0]) if x != -1 else -1)\n",
    "df['ACIDS'] = df['ACIDS'].fillna(-1)\n",
    "df['ACIDS'] = df['ACIDS'].apply( lambda x : float(x.split('g/l')[0]) if x != -1 else -1)\n",
    "df['ENERGY'] = df['ENERGY'].fillna(-1)\n",
    "df['ENERGY'] = df['ENERGY'].apply( lambda x : float(x.split('Kcal / 100ml')[0]) if x != -1 else -1)"
   ]
  },
  {
   "cell_type": "code",
   "execution_count": 3,
   "metadata": {},
   "outputs": [],
   "source": [
    "df['acid'] = 0\n",
    "df['bodied'] = 0\n",
    "df['dry'] = 0\n",
    "df['sweet'] = 0\n",
    "df['tannic'] = 0\n",
    "\n",
    "\n",
    "dict1 = {\n",
    "\"very acidic\":4,\n",
    "\"acidic\":3,\n",
    "\"medium acidic\":2,\n",
    "\"slightly acidic\":1,\n",
    "\n",
    "\n",
    "\"Extra full-bodied\":4,\n",
    "\"extra full-bodied\":4,\n",
    "\"Full-bodied\":3,\n",
    "\"full-bodied\":3,\n",
    "\"Medium-bodied\":2,\n",
    "\"Medium full bodied\":2,\n",
    "\"medium full bodied\":2,\n",
    "\"Light-bodied\":1,\n",
    "\"light-bodied\":1,\n",
    "\n",
    "\n",
    "\"Very dry\":4,\n",
    "\"very dry\":4,\n",
    "\"dry\":3,\n",
    "\"medium dry\":2,\n",
    "\"medium-dry\":2,\n",
    "\"Medium dry\":2,\n",
    "\"dryish\":1,\n",
    "\n",
    "\"sweet\":4,\n",
    "\"Medium sweet\":2,\n",
    "\"medium-sweet\":2,\n",
    "\"sweetish\":1,\n",
    "\n",
    "\"very tannic\":5,\n",
    "\"tannic\":4,\n",
    "\"quite tannic\":3,\n",
    "\"medium tannic\":2,\n",
    "\"low tannins\":1\n",
    "\n",
    "\n",
    "}"
   ]
  },
  {
   "cell_type": "code",
   "execution_count": 4,
   "metadata": {},
   "outputs": [
    {
     "output_type": "execute_result",
     "data": {
      "text/plain": [
       "       index   type                     pair  ALCOHOL  SUGAR  ACIDS  ENERGY  \\\n",
       "0          0    box               casseroles     15.0    3.0    5.2    80.0   \n",
       "1          1    box          pasta and pizza     15.0    3.0    5.2    80.0   \n",
       "2          2    box               party wine     15.0    3.0    5.2    80.0   \n",
       "3          3    box                     beef     15.0    3.0    5.2    80.0   \n",
       "4          4    box          chicken, turkey     12.0   16.0    4.9    70.0   \n",
       "...      ...    ...                      ...      ...    ...    ...     ...   \n",
       "30247   9031  white          metal screw cap     12.5   25.0    5.3    80.0   \n",
       "30248   9032  white                 hot food     12.5   25.0    5.3    80.0   \n",
       "30249   9033  white            oriental food     12.5   25.0    5.3    80.0   \n",
       "30250   9034  white  salads, vegetarian food     12.5   25.0    5.3    80.0   \n",
       "30251   9035  white               party wine     12.5   25.0    5.3    80.0   \n",
       "\n",
       "                                                    text  \\\n",
       "0      Luscious and jammy reds are medium-bodied, ful...   \n",
       "1      Luscious and jammy reds are medium-bodied, ful...   \n",
       "2      Luscious and jammy reds are medium-bodied, ful...   \n",
       "3      Luscious and jammy reds are medium-bodied, ful...   \n",
       "4      Mellow and sweet whites are medium-dry or even...   \n",
       "...                                                  ...   \n",
       "30247  Mellow and sweet whites are medium-dry or even...   \n",
       "30248  Mellow and sweet whites are medium-dry or even...   \n",
       "30249  Mellow and sweet whites are medium-dry or even...   \n",
       "30250  Mellow and sweet whites are medium-dry or even...   \n",
       "30251  Mellow and sweet whites are medium-dry or even...   \n",
       "\n",
       "                                                topNotch  \\\n",
       "0      Full-bodied, medium tannic, blackberry notes, ...   \n",
       "1      Full-bodied, medium tannic, blackberry notes, ...   \n",
       "2      Full-bodied, medium tannic, blackberry notes, ...   \n",
       "3      Full-bodied, medium tannic, blackberry notes, ...   \n",
       "4      Medium sweet, medium acidic, honey melon notes...   \n",
       "...                                                  ...   \n",
       "30247  Medium sweet, medium acidic, tropical fruit no...   \n",
       "30248  Medium sweet, medium acidic, tropical fruit no...   \n",
       "30249  Medium sweet, medium acidic, tropical fruit no...   \n",
       "30250  Medium sweet, medium acidic, tropical fruit no...   \n",
       "30251  Medium sweet, medium acidic, tropical fruit no...   \n",
       "\n",
       "                                                    tips  acid  bodied  dry  \\\n",
       "0      Wines with rich flavours and aromas are a good...     0       0    0   \n",
       "1      Wines with rich flavours and aromas are a good...     0       0    0   \n",
       "2      Wines with rich flavours and aromas are a good...     0       0    0   \n",
       "3      Wines with rich flavours and aromas are a good...     0       0    0   \n",
       "4      These wines are all characterised by delicious...     0       0    0   \n",
       "...                                                  ...   ...     ...  ...   \n",
       "30247  These wines are all characterised by delicious...     0       0    0   \n",
       "30248  These wines are all characterised by delicious...     0       0    0   \n",
       "30249  These wines are all characterised by delicious...     0       0    0   \n",
       "30250  These wines are all characterised by delicious...     0       0    0   \n",
       "30251  These wines are all characterised by delicious...     0       0    0   \n",
       "\n",
       "       sweet  tannic  \n",
       "0          0       0  \n",
       "1          0       0  \n",
       "2          0       0  \n",
       "3          0       0  \n",
       "4          0       0  \n",
       "...      ...     ...  \n",
       "30247      0       0  \n",
       "30248      0       0  \n",
       "30249      0       0  \n",
       "30250      0       0  \n",
       "30251      0       0  \n",
       "\n",
       "[30252 rows x 15 columns]"
      ],
      "text/html": "<div>\n<style scoped>\n    .dataframe tbody tr th:only-of-type {\n        vertical-align: middle;\n    }\n\n    .dataframe tbody tr th {\n        vertical-align: top;\n    }\n\n    .dataframe thead th {\n        text-align: right;\n    }\n</style>\n<table border=\"1\" class=\"dataframe\">\n  <thead>\n    <tr style=\"text-align: right;\">\n      <th></th>\n      <th>index</th>\n      <th>type</th>\n      <th>pair</th>\n      <th>ALCOHOL</th>\n      <th>SUGAR</th>\n      <th>ACIDS</th>\n      <th>ENERGY</th>\n      <th>text</th>\n      <th>topNotch</th>\n      <th>tips</th>\n      <th>acid</th>\n      <th>bodied</th>\n      <th>dry</th>\n      <th>sweet</th>\n      <th>tannic</th>\n    </tr>\n  </thead>\n  <tbody>\n    <tr>\n      <th>0</th>\n      <td>0</td>\n      <td>box</td>\n      <td>casseroles</td>\n      <td>15.0</td>\n      <td>3.0</td>\n      <td>5.2</td>\n      <td>80.0</td>\n      <td>Luscious and jammy reds are medium-bodied, ful...</td>\n      <td>Full-bodied, medium tannic, blackberry notes, ...</td>\n      <td>Wines with rich flavours and aromas are a good...</td>\n      <td>0</td>\n      <td>0</td>\n      <td>0</td>\n      <td>0</td>\n      <td>0</td>\n    </tr>\n    <tr>\n      <th>1</th>\n      <td>1</td>\n      <td>box</td>\n      <td>pasta and pizza</td>\n      <td>15.0</td>\n      <td>3.0</td>\n      <td>5.2</td>\n      <td>80.0</td>\n      <td>Luscious and jammy reds are medium-bodied, ful...</td>\n      <td>Full-bodied, medium tannic, blackberry notes, ...</td>\n      <td>Wines with rich flavours and aromas are a good...</td>\n      <td>0</td>\n      <td>0</td>\n      <td>0</td>\n      <td>0</td>\n      <td>0</td>\n    </tr>\n    <tr>\n      <th>2</th>\n      <td>2</td>\n      <td>box</td>\n      <td>party wine</td>\n      <td>15.0</td>\n      <td>3.0</td>\n      <td>5.2</td>\n      <td>80.0</td>\n      <td>Luscious and jammy reds are medium-bodied, ful...</td>\n      <td>Full-bodied, medium tannic, blackberry notes, ...</td>\n      <td>Wines with rich flavours and aromas are a good...</td>\n      <td>0</td>\n      <td>0</td>\n      <td>0</td>\n      <td>0</td>\n      <td>0</td>\n    </tr>\n    <tr>\n      <th>3</th>\n      <td>3</td>\n      <td>box</td>\n      <td>beef</td>\n      <td>15.0</td>\n      <td>3.0</td>\n      <td>5.2</td>\n      <td>80.0</td>\n      <td>Luscious and jammy reds are medium-bodied, ful...</td>\n      <td>Full-bodied, medium tannic, blackberry notes, ...</td>\n      <td>Wines with rich flavours and aromas are a good...</td>\n      <td>0</td>\n      <td>0</td>\n      <td>0</td>\n      <td>0</td>\n      <td>0</td>\n    </tr>\n    <tr>\n      <th>4</th>\n      <td>4</td>\n      <td>box</td>\n      <td>chicken, turkey</td>\n      <td>12.0</td>\n      <td>16.0</td>\n      <td>4.9</td>\n      <td>70.0</td>\n      <td>Mellow and sweet whites are medium-dry or even...</td>\n      <td>Medium sweet, medium acidic, honey melon notes...</td>\n      <td>These wines are all characterised by delicious...</td>\n      <td>0</td>\n      <td>0</td>\n      <td>0</td>\n      <td>0</td>\n      <td>0</td>\n    </tr>\n    <tr>\n      <th>...</th>\n      <td>...</td>\n      <td>...</td>\n      <td>...</td>\n      <td>...</td>\n      <td>...</td>\n      <td>...</td>\n      <td>...</td>\n      <td>...</td>\n      <td>...</td>\n      <td>...</td>\n      <td>...</td>\n      <td>...</td>\n      <td>...</td>\n      <td>...</td>\n      <td>...</td>\n    </tr>\n    <tr>\n      <th>30247</th>\n      <td>9031</td>\n      <td>white</td>\n      <td>metal screw cap</td>\n      <td>12.5</td>\n      <td>25.0</td>\n      <td>5.3</td>\n      <td>80.0</td>\n      <td>Mellow and sweet whites are medium-dry or even...</td>\n      <td>Medium sweet, medium acidic, tropical fruit no...</td>\n      <td>These wines are all characterised by delicious...</td>\n      <td>0</td>\n      <td>0</td>\n      <td>0</td>\n      <td>0</td>\n      <td>0</td>\n    </tr>\n    <tr>\n      <th>30248</th>\n      <td>9032</td>\n      <td>white</td>\n      <td>hot food</td>\n      <td>12.5</td>\n      <td>25.0</td>\n      <td>5.3</td>\n      <td>80.0</td>\n      <td>Mellow and sweet whites are medium-dry or even...</td>\n      <td>Medium sweet, medium acidic, tropical fruit no...</td>\n      <td>These wines are all characterised by delicious...</td>\n      <td>0</td>\n      <td>0</td>\n      <td>0</td>\n      <td>0</td>\n      <td>0</td>\n    </tr>\n    <tr>\n      <th>30249</th>\n      <td>9033</td>\n      <td>white</td>\n      <td>oriental food</td>\n      <td>12.5</td>\n      <td>25.0</td>\n      <td>5.3</td>\n      <td>80.0</td>\n      <td>Mellow and sweet whites are medium-dry or even...</td>\n      <td>Medium sweet, medium acidic, tropical fruit no...</td>\n      <td>These wines are all characterised by delicious...</td>\n      <td>0</td>\n      <td>0</td>\n      <td>0</td>\n      <td>0</td>\n      <td>0</td>\n    </tr>\n    <tr>\n      <th>30250</th>\n      <td>9034</td>\n      <td>white</td>\n      <td>salads, vegetarian food</td>\n      <td>12.5</td>\n      <td>25.0</td>\n      <td>5.3</td>\n      <td>80.0</td>\n      <td>Mellow and sweet whites are medium-dry or even...</td>\n      <td>Medium sweet, medium acidic, tropical fruit no...</td>\n      <td>These wines are all characterised by delicious...</td>\n      <td>0</td>\n      <td>0</td>\n      <td>0</td>\n      <td>0</td>\n      <td>0</td>\n    </tr>\n    <tr>\n      <th>30251</th>\n      <td>9035</td>\n      <td>white</td>\n      <td>party wine</td>\n      <td>12.5</td>\n      <td>25.0</td>\n      <td>5.3</td>\n      <td>80.0</td>\n      <td>Mellow and sweet whites are medium-dry or even...</td>\n      <td>Medium sweet, medium acidic, tropical fruit no...</td>\n      <td>These wines are all characterised by delicious...</td>\n      <td>0</td>\n      <td>0</td>\n      <td>0</td>\n      <td>0</td>\n      <td>0</td>\n    </tr>\n  </tbody>\n</table>\n<p>30252 rows × 15 columns</p>\n</div>"
     },
     "metadata": {},
     "execution_count": 4
    }
   ],
   "source": [
    "df"
   ]
  },
  {
   "cell_type": "code",
   "execution_count": 5,
   "metadata": {},
   "outputs": [],
   "source": [
    "#df.to_csv(\"dataset_all_cleaned.csv\")"
   ]
  },
  {
   "cell_type": "code",
   "execution_count": 6,
   "metadata": {
    "tags": []
   },
   "outputs": [],
   "source": [
    "\n",
    "for index, row in df.iterrows():\n",
    "    notches = row['topNotch'].split(',')\n",
    "    for n in notches:\n",
    "        if \"acid\" in n:\n",
    "           df.at[index,'acid'] = dict1[n.strip()]\n",
    "        if \"bodied\" in n:\n",
    "           df.at[index,'bodied'] = dict1[n.strip()]\n",
    "        if \"dry\" in n:\n",
    "           df.at[index,'dry'] = dict1[n.strip()] \n",
    "        if \"sweet\" in n and \"hint\" not in n and \"notes\" not in n:\n",
    "           df.at[index,'sweet'] = dict1[n.strip()]\n",
    "        if \"tann\" in n:\n",
    "           df.at[index,'tannic'] = dict1[n.strip()]"
   ]
  },
  {
   "cell_type": "code",
   "execution_count": 7,
   "metadata": {},
   "outputs": [
    {
     "output_type": "execute_result",
     "data": {
      "text/plain": [
       "       index   type                     pair  ALCOHOL  SUGAR  ACIDS  ENERGY  \\\n",
       "32        32    box          chicken, turkey     12.0   13.0    5.3    70.0   \n",
       "33        33    box               party wine     12.0   13.0    5.3    70.0   \n",
       "34        34    box  salads, vegetarian food     12.0   13.0    5.3    70.0   \n",
       "35        35    box            oriental food     12.0   13.0    5.3    70.0   \n",
       "76        76    box               party wine     12.0    9.0    6.9    70.0   \n",
       "...      ...    ...                      ...      ...    ...    ...     ...   \n",
       "30180   8964  white          metal screw cap     12.5    8.0    5.0    70.0   \n",
       "30181   8965  white  salads, vegetarian food     12.5    8.0    5.0    70.0   \n",
       "30182   8966  white           savoury snacks     12.5    8.0    5.0    70.0   \n",
       "30183   8967  white          chicken, turkey     12.5    8.0    5.0    70.0   \n",
       "30184   8968  white               party wine     12.5    8.0    5.0    70.0   \n",
       "\n",
       "                                                    text  \\\n",
       "32     Ros� wines are usually made from red grapes, a...   \n",
       "33     Ros� wines are usually made from red grapes, a...   \n",
       "34     Ros� wines are usually made from red grapes, a...   \n",
       "35     Ros� wines are usually made from red grapes, a...   \n",
       "76     Fruit wines and sparkling fruit wines are made...   \n",
       "...                                                  ...   \n",
       "30180  Crisp and fruity whites are dry, medium-dry or...   \n",
       "30181  Crisp and fruity whites are dry, medium-dry or...   \n",
       "30182  Crisp and fruity whites are dry, medium-dry or...   \n",
       "30183  Crisp and fruity whites are dry, medium-dry or...   \n",
       "30184  Crisp and fruity whites are dry, medium-dry or...   \n",
       "\n",
       "                                                topNotch  \\\n",
       "32     Medium dry, medium acidic, strawberry jam note...   \n",
       "33     Medium dry, medium acidic, strawberry jam note...   \n",
       "34     Medium dry, medium acidic, strawberry jam note...   \n",
       "35     Medium dry, medium acidic, strawberry jam note...   \n",
       "76     Medium dry, acidic, citrus notes, raspberry no...   \n",
       "...                                                  ...   \n",
       "30180  Medium dry, medium acidic, ripe pear notes, ap...   \n",
       "30181  Medium dry, medium acidic, ripe pear notes, ap...   \n",
       "30182  Medium dry, medium acidic, ripe pear notes, ap...   \n",
       "30183  Medium dry, medium acidic, ripe pear notes, ap...   \n",
       "30184  Medium dry, medium acidic, ripe pear notes, ap...   \n",
       "\n",
       "                                                    tips  acid  bodied  dry  \\\n",
       "32     Ros� wines are ideal for socialising, and you ...     2       0    2   \n",
       "33     Ros� wines are ideal for socialising, and you ...     2       0    2   \n",
       "34     Ros� wines are ideal for socialising, and you ...     2       0    2   \n",
       "35     Ros� wines are ideal for socialising, and you ...     2       0    2   \n",
       "76     Sparkling fruit wines, fruit wines and aromati...     3       0    2   \n",
       "...                                                  ...   ...     ...  ...   \n",
       "30180  These wines are an excellent match for savoury...     2       0    2   \n",
       "30181  These wines are an excellent match for savoury...     2       0    2   \n",
       "30182  These wines are an excellent match for savoury...     2       0    2   \n",
       "30183  These wines are an excellent match for savoury...     2       0    2   \n",
       "30184  These wines are an excellent match for savoury...     2       0    2   \n",
       "\n",
       "       sweet  tannic  \n",
       "32         0       0  \n",
       "33         0       0  \n",
       "34         0       0  \n",
       "35         0       0  \n",
       "76         0       0  \n",
       "...      ...     ...  \n",
       "30180      0       0  \n",
       "30181      0       0  \n",
       "30182      0       0  \n",
       "30183      0       0  \n",
       "30184      0       0  \n",
       "\n",
       "[1469 rows x 15 columns]"
      ],
      "text/html": "<div>\n<style scoped>\n    .dataframe tbody tr th:only-of-type {\n        vertical-align: middle;\n    }\n\n    .dataframe tbody tr th {\n        vertical-align: top;\n    }\n\n    .dataframe thead th {\n        text-align: right;\n    }\n</style>\n<table border=\"1\" class=\"dataframe\">\n  <thead>\n    <tr style=\"text-align: right;\">\n      <th></th>\n      <th>index</th>\n      <th>type</th>\n      <th>pair</th>\n      <th>ALCOHOL</th>\n      <th>SUGAR</th>\n      <th>ACIDS</th>\n      <th>ENERGY</th>\n      <th>text</th>\n      <th>topNotch</th>\n      <th>tips</th>\n      <th>acid</th>\n      <th>bodied</th>\n      <th>dry</th>\n      <th>sweet</th>\n      <th>tannic</th>\n    </tr>\n  </thead>\n  <tbody>\n    <tr>\n      <th>32</th>\n      <td>32</td>\n      <td>box</td>\n      <td>chicken, turkey</td>\n      <td>12.0</td>\n      <td>13.0</td>\n      <td>5.3</td>\n      <td>70.0</td>\n      <td>Ros� wines are usually made from red grapes, a...</td>\n      <td>Medium dry, medium acidic, strawberry jam note...</td>\n      <td>Ros� wines are ideal for socialising, and you ...</td>\n      <td>2</td>\n      <td>0</td>\n      <td>2</td>\n      <td>0</td>\n      <td>0</td>\n    </tr>\n    <tr>\n      <th>33</th>\n      <td>33</td>\n      <td>box</td>\n      <td>party wine</td>\n      <td>12.0</td>\n      <td>13.0</td>\n      <td>5.3</td>\n      <td>70.0</td>\n      <td>Ros� wines are usually made from red grapes, a...</td>\n      <td>Medium dry, medium acidic, strawberry jam note...</td>\n      <td>Ros� wines are ideal for socialising, and you ...</td>\n      <td>2</td>\n      <td>0</td>\n      <td>2</td>\n      <td>0</td>\n      <td>0</td>\n    </tr>\n    <tr>\n      <th>34</th>\n      <td>34</td>\n      <td>box</td>\n      <td>salads, vegetarian food</td>\n      <td>12.0</td>\n      <td>13.0</td>\n      <td>5.3</td>\n      <td>70.0</td>\n      <td>Ros� wines are usually made from red grapes, a...</td>\n      <td>Medium dry, medium acidic, strawberry jam note...</td>\n      <td>Ros� wines are ideal for socialising, and you ...</td>\n      <td>2</td>\n      <td>0</td>\n      <td>2</td>\n      <td>0</td>\n      <td>0</td>\n    </tr>\n    <tr>\n      <th>35</th>\n      <td>35</td>\n      <td>box</td>\n      <td>oriental food</td>\n      <td>12.0</td>\n      <td>13.0</td>\n      <td>5.3</td>\n      <td>70.0</td>\n      <td>Ros� wines are usually made from red grapes, a...</td>\n      <td>Medium dry, medium acidic, strawberry jam note...</td>\n      <td>Ros� wines are ideal for socialising, and you ...</td>\n      <td>2</td>\n      <td>0</td>\n      <td>2</td>\n      <td>0</td>\n      <td>0</td>\n    </tr>\n    <tr>\n      <th>76</th>\n      <td>76</td>\n      <td>box</td>\n      <td>party wine</td>\n      <td>12.0</td>\n      <td>9.0</td>\n      <td>6.9</td>\n      <td>70.0</td>\n      <td>Fruit wines and sparkling fruit wines are made...</td>\n      <td>Medium dry, acidic, citrus notes, raspberry no...</td>\n      <td>Sparkling fruit wines, fruit wines and aromati...</td>\n      <td>3</td>\n      <td>0</td>\n      <td>2</td>\n      <td>0</td>\n      <td>0</td>\n    </tr>\n    <tr>\n      <th>...</th>\n      <td>...</td>\n      <td>...</td>\n      <td>...</td>\n      <td>...</td>\n      <td>...</td>\n      <td>...</td>\n      <td>...</td>\n      <td>...</td>\n      <td>...</td>\n      <td>...</td>\n      <td>...</td>\n      <td>...</td>\n      <td>...</td>\n      <td>...</td>\n      <td>...</td>\n    </tr>\n    <tr>\n      <th>30180</th>\n      <td>8964</td>\n      <td>white</td>\n      <td>metal screw cap</td>\n      <td>12.5</td>\n      <td>8.0</td>\n      <td>5.0</td>\n      <td>70.0</td>\n      <td>Crisp and fruity whites are dry, medium-dry or...</td>\n      <td>Medium dry, medium acidic, ripe pear notes, ap...</td>\n      <td>These wines are an excellent match for savoury...</td>\n      <td>2</td>\n      <td>0</td>\n      <td>2</td>\n      <td>0</td>\n      <td>0</td>\n    </tr>\n    <tr>\n      <th>30181</th>\n      <td>8965</td>\n      <td>white</td>\n      <td>salads, vegetarian food</td>\n      <td>12.5</td>\n      <td>8.0</td>\n      <td>5.0</td>\n      <td>70.0</td>\n      <td>Crisp and fruity whites are dry, medium-dry or...</td>\n      <td>Medium dry, medium acidic, ripe pear notes, ap...</td>\n      <td>These wines are an excellent match for savoury...</td>\n      <td>2</td>\n      <td>0</td>\n      <td>2</td>\n      <td>0</td>\n      <td>0</td>\n    </tr>\n    <tr>\n      <th>30182</th>\n      <td>8966</td>\n      <td>white</td>\n      <td>savoury snacks</td>\n      <td>12.5</td>\n      <td>8.0</td>\n      <td>5.0</td>\n      <td>70.0</td>\n      <td>Crisp and fruity whites are dry, medium-dry or...</td>\n      <td>Medium dry, medium acidic, ripe pear notes, ap...</td>\n      <td>These wines are an excellent match for savoury...</td>\n      <td>2</td>\n      <td>0</td>\n      <td>2</td>\n      <td>0</td>\n      <td>0</td>\n    </tr>\n    <tr>\n      <th>30183</th>\n      <td>8967</td>\n      <td>white</td>\n      <td>chicken, turkey</td>\n      <td>12.5</td>\n      <td>8.0</td>\n      <td>5.0</td>\n      <td>70.0</td>\n      <td>Crisp and fruity whites are dry, medium-dry or...</td>\n      <td>Medium dry, medium acidic, ripe pear notes, ap...</td>\n      <td>These wines are an excellent match for savoury...</td>\n      <td>2</td>\n      <td>0</td>\n      <td>2</td>\n      <td>0</td>\n      <td>0</td>\n    </tr>\n    <tr>\n      <th>30184</th>\n      <td>8968</td>\n      <td>white</td>\n      <td>party wine</td>\n      <td>12.5</td>\n      <td>8.0</td>\n      <td>5.0</td>\n      <td>70.0</td>\n      <td>Crisp and fruity whites are dry, medium-dry or...</td>\n      <td>Medium dry, medium acidic, ripe pear notes, ap...</td>\n      <td>These wines are an excellent match for savoury...</td>\n      <td>2</td>\n      <td>0</td>\n      <td>2</td>\n      <td>0</td>\n      <td>0</td>\n    </tr>\n  </tbody>\n</table>\n<p>1469 rows × 15 columns</p>\n</div>"
     },
     "metadata": {},
     "execution_count": 7
    }
   ],
   "source": [
    "df[df['dry'] != 0]"
   ]
  },
  {
   "cell_type": "code",
   "execution_count": 8,
   "metadata": {},
   "outputs": [],
   "source": [
    "df2 = pd.read_excel(\"rip.xlsx\")\n",
    "df2 = df2.fillna(0)"
   ]
  },
  {
   "cell_type": "code",
   "execution_count": 9,
   "metadata": {},
   "outputs": [],
   "source": [
    "df['floral'] = 0\n",
    "df['citrus fruit'] = 0\n",
    "df['stone fruit'] = 0\n",
    "df['tropical fruit'] = 0\n",
    "df['red fruit'] = 0\n",
    "df['black fruit'] = 0\n",
    "df['honey'] = 0\n",
    "df['herbal'] = 0\n",
    "df['bitter'] = 0\n",
    "df['mineral'] = 0\n",
    "df['creamy'] = 0\n",
    "df['spice'] = 0\n",
    "df['earthy'] = 0\n",
    "df['baking spice'] = 0\n",
    "df['leather'] = 0\n",
    "df['astringent'] = 0\n",
    "df['apple/pear'] = 0\n",
    "df['melon'] = 0\n",
    "df['buttery'] = 0\n",
    "df['pastry'] = 0\n",
    "df['nut'] = 0\n",
    "df['chemical/medicinal'] = 0\n",
    "df['wood'] = 0\n",
    "df['smoky'] = 0"
   ]
  },
  {
   "cell_type": "code",
   "execution_count": 10,
   "metadata": {},
   "outputs": [
    {
     "output_type": "execute_result",
     "data": {
      "text/plain": [
       "Index(['taste', 'floral', 'citrus fruit', 'stone fruit', 'tropical fruit',\n",
       "       'red fruit', 'black fruit', 'honey', 'herbal', 'bitter', 'mineral',\n",
       "       'creamy', 'spice', 'earthy', 'baking spice', 'leather', 'astringent',\n",
       "       'apple/pear', 'melon', 'buttery', 'pastry', 'nut', 'chemical/medicinal',\n",
       "       'wood', 'smoky'],\n",
       "      dtype='object')"
      ]
     },
     "metadata": {},
     "execution_count": 10
    }
   ],
   "source": [
    "df2.columns"
   ]
  },
  {
   "cell_type": "code",
   "execution_count": 11,
   "metadata": {},
   "outputs": [],
   "source": [
    "for index, row in df.iterrows():\n",
    "    notches = row['topNotch'].split(',')\n",
    "    for n in notches:\n",
    "        if \"notes\" in n or \"aromas\" in n or \"hint\" in n:\n",
    "            x = n.replace(\"notes\",\"\").replace(\"aromas\",\"\").replace(\"hint\",\"\").strip()\n",
    "            xx = df2[df2['taste'] == x]\n",
    "            for column in xx.columns[1:]:\n",
    "                try:\n",
    "                    df.at[index,column] += xx[column].sum()\n",
    "                except:\n",
    "                    df.at[index,column] += 0"
   ]
  },
  {
   "cell_type": "code",
   "execution_count": 12,
   "metadata": {},
   "outputs": [
    {
     "output_type": "execute_result",
     "data": {
      "text/plain": [
       "   index type             pair  ALCOHOL  SUGAR  ACIDS  ENERGY  \\\n",
       "0      0  box       casseroles     15.0    3.0    5.2    80.0   \n",
       "1      1  box  pasta and pizza     15.0    3.0    5.2    80.0   \n",
       "2      2  box       party wine     15.0    3.0    5.2    80.0   \n",
       "3      3  box             beef     15.0    3.0    5.2    80.0   \n",
       "4      4  box  chicken, turkey     12.0   16.0    4.9    70.0   \n",
       "\n",
       "                                                text  \\\n",
       "0  Luscious and jammy reds are medium-bodied, ful...   \n",
       "1  Luscious and jammy reds are medium-bodied, ful...   \n",
       "2  Luscious and jammy reds are medium-bodied, ful...   \n",
       "3  Luscious and jammy reds are medium-bodied, ful...   \n",
       "4  Mellow and sweet whites are medium-dry or even...   \n",
       "\n",
       "                                            topNotch  \\\n",
       "0  Full-bodied, medium tannic, blackberry notes, ...   \n",
       "1  Full-bodied, medium tannic, blackberry notes, ...   \n",
       "2  Full-bodied, medium tannic, blackberry notes, ...   \n",
       "3  Full-bodied, medium tannic, blackberry notes, ...   \n",
       "4  Medium sweet, medium acidic, honey melon notes...   \n",
       "\n",
       "                                                tips  ...  leather  \\\n",
       "0  Wines with rich flavours and aromas are a good...  ...        0   \n",
       "1  Wines with rich flavours and aromas are a good...  ...        0   \n",
       "2  Wines with rich flavours and aromas are a good...  ...        0   \n",
       "3  Wines with rich flavours and aromas are a good...  ...        0   \n",
       "4  These wines are all characterised by delicious...  ...        0   \n",
       "\n",
       "   astringent  apple/pear  melon  buttery  pastry  nut  chemical/medicinal  \\\n",
       "0           2           0      0        0       0    0                   0   \n",
       "1           2           0      0        0       0    0                   0   \n",
       "2           2           0      0        0       0    0                   0   \n",
       "3           2           0      0        0       0    0                   0   \n",
       "4           0           0      1        0       0    0                   0   \n",
       "\n",
       "   wood  smoky  \n",
       "0     0      0  \n",
       "1     0      0  \n",
       "2     0      0  \n",
       "3     0      0  \n",
       "4     0      0  \n",
       "\n",
       "[5 rows x 39 columns]"
      ],
      "text/html": "<div>\n<style scoped>\n    .dataframe tbody tr th:only-of-type {\n        vertical-align: middle;\n    }\n\n    .dataframe tbody tr th {\n        vertical-align: top;\n    }\n\n    .dataframe thead th {\n        text-align: right;\n    }\n</style>\n<table border=\"1\" class=\"dataframe\">\n  <thead>\n    <tr style=\"text-align: right;\">\n      <th></th>\n      <th>index</th>\n      <th>type</th>\n      <th>pair</th>\n      <th>ALCOHOL</th>\n      <th>SUGAR</th>\n      <th>ACIDS</th>\n      <th>ENERGY</th>\n      <th>text</th>\n      <th>topNotch</th>\n      <th>tips</th>\n      <th>...</th>\n      <th>leather</th>\n      <th>astringent</th>\n      <th>apple/pear</th>\n      <th>melon</th>\n      <th>buttery</th>\n      <th>pastry</th>\n      <th>nut</th>\n      <th>chemical/medicinal</th>\n      <th>wood</th>\n      <th>smoky</th>\n    </tr>\n  </thead>\n  <tbody>\n    <tr>\n      <th>0</th>\n      <td>0</td>\n      <td>box</td>\n      <td>casseroles</td>\n      <td>15.0</td>\n      <td>3.0</td>\n      <td>5.2</td>\n      <td>80.0</td>\n      <td>Luscious and jammy reds are medium-bodied, ful...</td>\n      <td>Full-bodied, medium tannic, blackberry notes, ...</td>\n      <td>Wines with rich flavours and aromas are a good...</td>\n      <td>...</td>\n      <td>0</td>\n      <td>2</td>\n      <td>0</td>\n      <td>0</td>\n      <td>0</td>\n      <td>0</td>\n      <td>0</td>\n      <td>0</td>\n      <td>0</td>\n      <td>0</td>\n    </tr>\n    <tr>\n      <th>1</th>\n      <td>1</td>\n      <td>box</td>\n      <td>pasta and pizza</td>\n      <td>15.0</td>\n      <td>3.0</td>\n      <td>5.2</td>\n      <td>80.0</td>\n      <td>Luscious and jammy reds are medium-bodied, ful...</td>\n      <td>Full-bodied, medium tannic, blackberry notes, ...</td>\n      <td>Wines with rich flavours and aromas are a good...</td>\n      <td>...</td>\n      <td>0</td>\n      <td>2</td>\n      <td>0</td>\n      <td>0</td>\n      <td>0</td>\n      <td>0</td>\n      <td>0</td>\n      <td>0</td>\n      <td>0</td>\n      <td>0</td>\n    </tr>\n    <tr>\n      <th>2</th>\n      <td>2</td>\n      <td>box</td>\n      <td>party wine</td>\n      <td>15.0</td>\n      <td>3.0</td>\n      <td>5.2</td>\n      <td>80.0</td>\n      <td>Luscious and jammy reds are medium-bodied, ful...</td>\n      <td>Full-bodied, medium tannic, blackberry notes, ...</td>\n      <td>Wines with rich flavours and aromas are a good...</td>\n      <td>...</td>\n      <td>0</td>\n      <td>2</td>\n      <td>0</td>\n      <td>0</td>\n      <td>0</td>\n      <td>0</td>\n      <td>0</td>\n      <td>0</td>\n      <td>0</td>\n      <td>0</td>\n    </tr>\n    <tr>\n      <th>3</th>\n      <td>3</td>\n      <td>box</td>\n      <td>beef</td>\n      <td>15.0</td>\n      <td>3.0</td>\n      <td>5.2</td>\n      <td>80.0</td>\n      <td>Luscious and jammy reds are medium-bodied, ful...</td>\n      <td>Full-bodied, medium tannic, blackberry notes, ...</td>\n      <td>Wines with rich flavours and aromas are a good...</td>\n      <td>...</td>\n      <td>0</td>\n      <td>2</td>\n      <td>0</td>\n      <td>0</td>\n      <td>0</td>\n      <td>0</td>\n      <td>0</td>\n      <td>0</td>\n      <td>0</td>\n      <td>0</td>\n    </tr>\n    <tr>\n      <th>4</th>\n      <td>4</td>\n      <td>box</td>\n      <td>chicken, turkey</td>\n      <td>12.0</td>\n      <td>16.0</td>\n      <td>4.9</td>\n      <td>70.0</td>\n      <td>Mellow and sweet whites are medium-dry or even...</td>\n      <td>Medium sweet, medium acidic, honey melon notes...</td>\n      <td>These wines are all characterised by delicious...</td>\n      <td>...</td>\n      <td>0</td>\n      <td>0</td>\n      <td>0</td>\n      <td>1</td>\n      <td>0</td>\n      <td>0</td>\n      <td>0</td>\n      <td>0</td>\n      <td>0</td>\n      <td>0</td>\n    </tr>\n  </tbody>\n</table>\n<p>5 rows × 39 columns</p>\n</div>"
     },
     "metadata": {},
     "execution_count": 12
    }
   ],
   "source": [
    "df.head()"
   ]
  },
  {
   "cell_type": "code",
   "execution_count": 13,
   "metadata": {},
   "outputs": [],
   "source": [
    "df.to_csv(\"dataset_all_cleaned_2.csv\")"
   ]
  },
  {
   "cell_type": "code",
   "execution_count": 14,
   "metadata": {},
   "outputs": [
    {
     "output_type": "stream",
     "name": "stdout",
     "text": [
      "tannic 35530\nfloral 7252\ncitrus fruit 10378\nstone fruit 17534\ntropical fruit 5798\nred fruit 23367\nblack fruit 13971\nhoney 1759\nherbal 5995\nbitter 669\nmineral 481\ncreamy 283\nspice 2492\nearthy 640\nbaking spice 2397\nleather 914\nastringent 10052\napple/pear 8024\nmelon 1502\nbuttery 25\npastry 1100\nnut 968\nchemical/medicinal 581\nwood 3681\nsmoky 159\n"
     ]
    }
   ],
   "source": [
    "for x in df.columns[14:]:\n",
    "    print(x,df[x].sum())"
   ]
  }
 ]
}
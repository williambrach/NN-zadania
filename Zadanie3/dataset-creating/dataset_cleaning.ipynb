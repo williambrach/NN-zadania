{
 "metadata": {
  "language_info": {
   "codemirror_mode": {
    "name": "ipython",
    "version": 3
   },
   "file_extension": ".py",
   "mimetype": "text/x-python",
   "name": "python",
   "nbconvert_exporter": "python",
   "pygments_lexer": "ipython3",
   "version": "3.8.3"
  },
  "orig_nbformat": 2,
  "kernelspec": {
   "name": "python383jvsc74a57bd0b3ba2566441a7c06988d0923437866b63cedc61552a5af99d1f4fb67d367b25f",
   "display_name": "Python 3.8.3 64-bit ('ProgramData': virtualenv)"
  }
 },
 "nbformat": 4,
 "nbformat_minor": 2,
 "cells": [
  {
   "cell_type": "code",
   "execution_count": 1,
   "metadata": {},
   "outputs": [],
   "source": [
    "import pandas as pd"
   ]
  },
  {
   "cell_type": "code",
   "execution_count": 54,
   "metadata": {},
   "outputs": [],
   "source": [
    "df = pd.read_csv(\"dataset_all.csv\",index_col=0)\n",
    "df = df.drop(columns=['link', 'PRODUCT NUMBER', 'MORE INFORMATION', 'ADDITIONAL INFORMATION', 'PACKAGING', 'CLOSURE', 'PRODUCER', 'SUPPLIER','SELECTION','INGREDIENTS DECLARED BY THE PRODUCER', 'PRICE / LITRE'])\n",
    "df['ALCOHOL'] = df['ALCOHOL'].apply( lambda x : float(x.split('%')[0]))\n",
    "df['SUGAR'] = df['SUGAR'].fillna(-1)\n",
    "df['SUGAR'] = df['SUGAR'].apply( lambda x : float(x.split('g/l')[0]) if x != -1 else -1)\n",
    "df['ACIDS'] = df['ACIDS'].fillna(-1)\n",
    "df['ACIDS'] = df['ACIDS'].apply( lambda x : float(x.split('g/l')[0]) if x != -1 else -1)\n",
    "df['ENERGY'] = df['ENERGY'].fillna(-1)\n",
    "df['ENERGY'] = df['ENERGY'].apply( lambda x : float(x.split('Kcal / 100ml')[0]) if x != -1 else -1)"
   ]
  },
  {
   "cell_type": "code",
   "execution_count": 60,
   "metadata": {},
   "outputs": [],
   "source": [
    "df.to_csv(\"dataset_all_cleaned.csv\")"
   ]
  },
  {
   "cell_type": "code",
   "execution_count": 47,
   "metadata": {},
   "outputs": [],
   "source": [
    "df['SUGAR'] = df['SUGAR'].apply( lambda x : float(x.split('g/l')[0]) if x != -1 else -1)"
   ]
  },
  {
   "cell_type": "code",
   "execution_count": 56,
   "metadata": {},
   "outputs": [
    {
     "output_type": "stream",
     "name": "stdout",
     "text": [
      "<class 'pandas.core.frame.DataFrame'>\nInt64Index: 30252 entries, 0 to 9035\nData columns (total 9 columns):\n #   Column    Non-Null Count  Dtype  \n---  ------    --------------  -----  \n 0   type      30252 non-null  object \n 1   pair      30252 non-null  object \n 2   ALCOHOL   30252 non-null  float64\n 3   SUGAR     30252 non-null  float64\n 4   ACIDS     30252 non-null  float64\n 5   ENERGY    30252 non-null  float64\n 6   text      30252 non-null  object \n 7   topNotch  30252 non-null  object \n 8   tips      30097 non-null  object \ndtypes: float64(4), object(5)\nmemory usage: 2.3+ MB\n"
     ]
    }
   ],
   "source": [
    "df.info()"
   ]
  },
  {
   "cell_type": "code",
   "execution_count": null,
   "metadata": {},
   "outputs": [],
   "source": []
  }
 ]
}
{
 "metadata": {
  "language_info": {
   "codemirror_mode": {
    "name": "ipython",
    "version": 3
   },
   "file_extension": ".py",
   "mimetype": "text/x-python",
   "name": "python",
   "nbconvert_exporter": "python",
   "pygments_lexer": "ipython3",
   "version": "3.8.3"
  },
  "orig_nbformat": 2,
  "kernelspec": {
   "name": "python383jvsc74a57bd0b3ba2566441a7c06988d0923437866b63cedc61552a5af99d1f4fb67d367b25f",
   "display_name": "Python 3.8.3 64-bit (conda)"
  }
 },
 "nbformat": 4,
 "nbformat_minor": 2,
 "cells": [
  {
   "cell_type": "code",
   "execution_count": 50,
   "metadata": {},
   "outputs": [],
   "source": [
    "import pandas as pd"
   ]
  },
  {
   "cell_type": "code",
   "execution_count": 51,
   "metadata": {},
   "outputs": [],
   "source": [
    "df = pd.read_csv(\"dataset_all.csv\",index_col=0)\n",
    "df = df.drop(columns=['link', 'PRODUCT NUMBER', 'MORE INFORMATION', 'ADDITIONAL INFORMATION', 'PACKAGING', 'CLOSURE', 'PRODUCER', 'SUPPLIER','SELECTION','INGREDIENTS DECLARED BY THE PRODUCER', 'PRICE / LITRE'])\n",
    "df['ALCOHOL'] = df['ALCOHOL'].apply( lambda x : float(x.split('%')[0]))\n",
    "df['SUGAR'] = df['SUGAR'].fillna(-1)\n",
    "df['SUGAR'] = df['SUGAR'].apply( lambda x : float(x.split('g/l')[0]) if x != -1 else -1)\n",
    "df['ACIDS'] = df['ACIDS'].fillna(-1)\n",
    "df['ACIDS'] = df['ACIDS'].apply( lambda x : float(x.split('g/l')[0]) if x != -1 else -1)\n",
    "df['ENERGY'] = df['ENERGY'].fillna(-1)\n",
    "df['ENERGY'] = df['ENERGY'].apply( lambda x : float(x.split('Kcal / 100ml')[0]) if x != -1 else -1)"
   ]
  },
  {
   "cell_type": "code",
   "execution_count": 52,
   "metadata": {},
   "outputs": [],
   "source": [
    "df['acid'] = 0\n",
    "df['bodied'] = 0\n",
    "df['dry'] = 0\n",
    "df['sweet'] = 0\n",
    "df['tannic'] = 0\n",
    "\n",
    "\n",
    "dict1 = {\n",
    "\"very acidic\":4,\n",
    "\"acidic\":3,\n",
    "\"medium acidic\":2,\n",
    "\"slightly acidic\":1,\n",
    "\n",
    "\n",
    "\"Extra full-bodied\":4,\n",
    "\"extra full-bodied\":4,\n",
    "\"Full-bodied\":3,\n",
    "\"full-bodied\":3,\n",
    "\"Medium-bodied\":2,\n",
    "\"Medium full bodied\":2,\n",
    "\"medium full bodied\":2,\n",
    "\"Light-bodied\":1,\n",
    "\"light-bodied\":1,\n",
    "\n",
    "\n",
    "\"Very dry\":4,\n",
    "\"very dry\":4,\n",
    "\"dry\":3,\n",
    "\"medium dry\":2,\n",
    "\"medium-dry\":2,\n",
    "\"Medium dry\":2,\n",
    "\"dryish\":1,\n",
    "\n",
    "\"sweet\":4,\n",
    "\"Medium sweet\":2,\n",
    "\"medium-sweet\":2,\n",
    "\"sweetish\":1,\n",
    "\n",
    "\"very tannic\":5,\n",
    "\"tannic\":4,\n",
    "\"quite tannic\":3,\n",
    "\"medium tannic\":2,\n",
    "\"low tannins\":1\n",
    "\n",
    "\n",
    "}"
   ]
  },
  {
   "cell_type": "code",
   "execution_count": 53,
   "metadata": {},
   "outputs": [
    {
     "output_type": "execute_result",
     "data": {
      "text/plain": [
       "       type                     pair  ALCOHOL  SUGAR  ACIDS  ENERGY  \\\n",
       "0       box               casseroles     15.0    3.0    5.2    80.0   \n",
       "1       box          pasta and pizza     15.0    3.0    5.2    80.0   \n",
       "2       box               party wine     15.0    3.0    5.2    80.0   \n",
       "3       box                     beef     15.0    3.0    5.2    80.0   \n",
       "4       box          chicken, turkey     12.0   16.0    4.9    70.0   \n",
       "...     ...                      ...      ...    ...    ...     ...   \n",
       "9031  white          metal screw cap     12.5   25.0    5.3    80.0   \n",
       "9032  white                 hot food     12.5   25.0    5.3    80.0   \n",
       "9033  white            oriental food     12.5   25.0    5.3    80.0   \n",
       "9034  white  salads, vegetarian food     12.5   25.0    5.3    80.0   \n",
       "9035  white               party wine     12.5   25.0    5.3    80.0   \n",
       "\n",
       "                                                   text  \\\n",
       "0     Luscious and jammy reds are medium-bodied, ful...   \n",
       "1     Luscious and jammy reds are medium-bodied, ful...   \n",
       "2     Luscious and jammy reds are medium-bodied, ful...   \n",
       "3     Luscious and jammy reds are medium-bodied, ful...   \n",
       "4     Mellow and sweet whites are medium-dry or even...   \n",
       "...                                                 ...   \n",
       "9031  Mellow and sweet whites are medium-dry or even...   \n",
       "9032  Mellow and sweet whites are medium-dry or even...   \n",
       "9033  Mellow and sweet whites are medium-dry or even...   \n",
       "9034  Mellow and sweet whites are medium-dry or even...   \n",
       "9035  Mellow and sweet whites are medium-dry or even...   \n",
       "\n",
       "                                               topNotch  \\\n",
       "0     Full-bodied, medium tannic, blackberry notes, ...   \n",
       "1     Full-bodied, medium tannic, blackberry notes, ...   \n",
       "2     Full-bodied, medium tannic, blackberry notes, ...   \n",
       "3     Full-bodied, medium tannic, blackberry notes, ...   \n",
       "4     Medium sweet, medium acidic, honey melon notes...   \n",
       "...                                                 ...   \n",
       "9031  Medium sweet, medium acidic, tropical fruit no...   \n",
       "9032  Medium sweet, medium acidic, tropical fruit no...   \n",
       "9033  Medium sweet, medium acidic, tropical fruit no...   \n",
       "9034  Medium sweet, medium acidic, tropical fruit no...   \n",
       "9035  Medium sweet, medium acidic, tropical fruit no...   \n",
       "\n",
       "                                                   tips  acid  bodied  dry  \\\n",
       "0     Wines with rich flavours and aromas are a good...     0       0    0   \n",
       "1     Wines with rich flavours and aromas are a good...     0       0    0   \n",
       "2     Wines with rich flavours and aromas are a good...     0       0    0   \n",
       "3     Wines with rich flavours and aromas are a good...     0       0    0   \n",
       "4     These wines are all characterised by delicious...     0       0    0   \n",
       "...                                                 ...   ...     ...  ...   \n",
       "9031  These wines are all characterised by delicious...     0       0    0   \n",
       "9032  These wines are all characterised by delicious...     0       0    0   \n",
       "9033  These wines are all characterised by delicious...     0       0    0   \n",
       "9034  These wines are all characterised by delicious...     0       0    0   \n",
       "9035  These wines are all characterised by delicious...     0       0    0   \n",
       "\n",
       "      sweet  tannic  \n",
       "0         0       0  \n",
       "1         0       0  \n",
       "2         0       0  \n",
       "3         0       0  \n",
       "4         0       0  \n",
       "...     ...     ...  \n",
       "9031      0       0  \n",
       "9032      0       0  \n",
       "9033      0       0  \n",
       "9034      0       0  \n",
       "9035      0       0  \n",
       "\n",
       "[30252 rows x 14 columns]"
      ],
      "text/html": "<div>\n<style scoped>\n    .dataframe tbody tr th:only-of-type {\n        vertical-align: middle;\n    }\n\n    .dataframe tbody tr th {\n        vertical-align: top;\n    }\n\n    .dataframe thead th {\n        text-align: right;\n    }\n</style>\n<table border=\"1\" class=\"dataframe\">\n  <thead>\n    <tr style=\"text-align: right;\">\n      <th></th>\n      <th>type</th>\n      <th>pair</th>\n      <th>ALCOHOL</th>\n      <th>SUGAR</th>\n      <th>ACIDS</th>\n      <th>ENERGY</th>\n      <th>text</th>\n      <th>topNotch</th>\n      <th>tips</th>\n      <th>acid</th>\n      <th>bodied</th>\n      <th>dry</th>\n      <th>sweet</th>\n      <th>tannic</th>\n    </tr>\n  </thead>\n  <tbody>\n    <tr>\n      <th>0</th>\n      <td>box</td>\n      <td>casseroles</td>\n      <td>15.0</td>\n      <td>3.0</td>\n      <td>5.2</td>\n      <td>80.0</td>\n      <td>Luscious and jammy reds are medium-bodied, ful...</td>\n      <td>Full-bodied, medium tannic, blackberry notes, ...</td>\n      <td>Wines with rich flavours and aromas are a good...</td>\n      <td>0</td>\n      <td>0</td>\n      <td>0</td>\n      <td>0</td>\n      <td>0</td>\n    </tr>\n    <tr>\n      <th>1</th>\n      <td>box</td>\n      <td>pasta and pizza</td>\n      <td>15.0</td>\n      <td>3.0</td>\n      <td>5.2</td>\n      <td>80.0</td>\n      <td>Luscious and jammy reds are medium-bodied, ful...</td>\n      <td>Full-bodied, medium tannic, blackberry notes, ...</td>\n      <td>Wines with rich flavours and aromas are a good...</td>\n      <td>0</td>\n      <td>0</td>\n      <td>0</td>\n      <td>0</td>\n      <td>0</td>\n    </tr>\n    <tr>\n      <th>2</th>\n      <td>box</td>\n      <td>party wine</td>\n      <td>15.0</td>\n      <td>3.0</td>\n      <td>5.2</td>\n      <td>80.0</td>\n      <td>Luscious and jammy reds are medium-bodied, ful...</td>\n      <td>Full-bodied, medium tannic, blackberry notes, ...</td>\n      <td>Wines with rich flavours and aromas are a good...</td>\n      <td>0</td>\n      <td>0</td>\n      <td>0</td>\n      <td>0</td>\n      <td>0</td>\n    </tr>\n    <tr>\n      <th>3</th>\n      <td>box</td>\n      <td>beef</td>\n      <td>15.0</td>\n      <td>3.0</td>\n      <td>5.2</td>\n      <td>80.0</td>\n      <td>Luscious and jammy reds are medium-bodied, ful...</td>\n      <td>Full-bodied, medium tannic, blackberry notes, ...</td>\n      <td>Wines with rich flavours and aromas are a good...</td>\n      <td>0</td>\n      <td>0</td>\n      <td>0</td>\n      <td>0</td>\n      <td>0</td>\n    </tr>\n    <tr>\n      <th>4</th>\n      <td>box</td>\n      <td>chicken, turkey</td>\n      <td>12.0</td>\n      <td>16.0</td>\n      <td>4.9</td>\n      <td>70.0</td>\n      <td>Mellow and sweet whites are medium-dry or even...</td>\n      <td>Medium sweet, medium acidic, honey melon notes...</td>\n      <td>These wines are all characterised by delicious...</td>\n      <td>0</td>\n      <td>0</td>\n      <td>0</td>\n      <td>0</td>\n      <td>0</td>\n    </tr>\n    <tr>\n      <th>...</th>\n      <td>...</td>\n      <td>...</td>\n      <td>...</td>\n      <td>...</td>\n      <td>...</td>\n      <td>...</td>\n      <td>...</td>\n      <td>...</td>\n      <td>...</td>\n      <td>...</td>\n      <td>...</td>\n      <td>...</td>\n      <td>...</td>\n      <td>...</td>\n    </tr>\n    <tr>\n      <th>9031</th>\n      <td>white</td>\n      <td>metal screw cap</td>\n      <td>12.5</td>\n      <td>25.0</td>\n      <td>5.3</td>\n      <td>80.0</td>\n      <td>Mellow and sweet whites are medium-dry or even...</td>\n      <td>Medium sweet, medium acidic, tropical fruit no...</td>\n      <td>These wines are all characterised by delicious...</td>\n      <td>0</td>\n      <td>0</td>\n      <td>0</td>\n      <td>0</td>\n      <td>0</td>\n    </tr>\n    <tr>\n      <th>9032</th>\n      <td>white</td>\n      <td>hot food</td>\n      <td>12.5</td>\n      <td>25.0</td>\n      <td>5.3</td>\n      <td>80.0</td>\n      <td>Mellow and sweet whites are medium-dry or even...</td>\n      <td>Medium sweet, medium acidic, tropical fruit no...</td>\n      <td>These wines are all characterised by delicious...</td>\n      <td>0</td>\n      <td>0</td>\n      <td>0</td>\n      <td>0</td>\n      <td>0</td>\n    </tr>\n    <tr>\n      <th>9033</th>\n      <td>white</td>\n      <td>oriental food</td>\n      <td>12.5</td>\n      <td>25.0</td>\n      <td>5.3</td>\n      <td>80.0</td>\n      <td>Mellow and sweet whites are medium-dry or even...</td>\n      <td>Medium sweet, medium acidic, tropical fruit no...</td>\n      <td>These wines are all characterised by delicious...</td>\n      <td>0</td>\n      <td>0</td>\n      <td>0</td>\n      <td>0</td>\n      <td>0</td>\n    </tr>\n    <tr>\n      <th>9034</th>\n      <td>white</td>\n      <td>salads, vegetarian food</td>\n      <td>12.5</td>\n      <td>25.0</td>\n      <td>5.3</td>\n      <td>80.0</td>\n      <td>Mellow and sweet whites are medium-dry or even...</td>\n      <td>Medium sweet, medium acidic, tropical fruit no...</td>\n      <td>These wines are all characterised by delicious...</td>\n      <td>0</td>\n      <td>0</td>\n      <td>0</td>\n      <td>0</td>\n      <td>0</td>\n    </tr>\n    <tr>\n      <th>9035</th>\n      <td>white</td>\n      <td>party wine</td>\n      <td>12.5</td>\n      <td>25.0</td>\n      <td>5.3</td>\n      <td>80.0</td>\n      <td>Mellow and sweet whites are medium-dry or even...</td>\n      <td>Medium sweet, medium acidic, tropical fruit no...</td>\n      <td>These wines are all characterised by delicious...</td>\n      <td>0</td>\n      <td>0</td>\n      <td>0</td>\n      <td>0</td>\n      <td>0</td>\n    </tr>\n  </tbody>\n</table>\n<p>30252 rows × 14 columns</p>\n</div>"
     },
     "metadata": {},
     "execution_count": 53
    }
   ],
   "source": [
    "df"
   ]
  },
  {
   "cell_type": "code",
   "execution_count": 54,
   "metadata": {},
   "outputs": [],
   "source": [
    "#df.to_csv(\"dataset_all_cleaned.csv\")"
   ]
  },
  {
   "cell_type": "code",
   "execution_count": 55,
   "metadata": {
    "tags": []
   },
   "outputs": [],
   "source": [
    "\n",
    "for index, row in df.iterrows():\n",
    "    notches = row['topNotch'].split(',')\n",
    "    for n in notches:\n",
    "        if \"acid\" in n:\n",
    "           df.at[index,'acid'] = dict1[n.strip()]\n",
    "        if \"bodied\" in n:\n",
    "           df.at[index,'bodied'] = dict1[n.strip()]\n",
    "        if \"dry\" in n:\n",
    "           df.at[index,'dry'] = dict1[n.strip()] \n",
    "        if \"sweet\" in n and \"hint\" not in n and \"notes\" not in n:\n",
    "           df.at[index,'sweet'] = dict1[n.strip()]\n",
    "        if \"tann\" in n:\n",
    "           df.at[index,'tannic'] = dict1[n.strip()]"
   ]
  },
  {
   "cell_type": "code",
   "execution_count": 56,
   "metadata": {},
   "outputs": [
    {
     "output_type": "execute_result",
     "data": {
      "text/plain": [
       "       type                      pair  ALCOHOL  SUGAR  ACIDS  ENERGY  \\\n",
       "13      box                party wine      7.5   40.0    7.3    60.0   \n",
       "14      box   salads, vegetarian food      7.5   40.0    7.3    60.0   \n",
       "15      box             oriental food      7.5   40.0    7.3    60.0   \n",
       "16      box             mild sausages     12.5    5.0    5.1    70.0   \n",
       "23      box  spicy and meaty sausages     14.0    8.0    5.5    80.0   \n",
       "...     ...                       ...      ...    ...    ...     ...   \n",
       "8964  white           metal screw cap     12.5    8.0    5.0    70.0   \n",
       "8965  white   salads, vegetarian food     12.5    8.0    5.0    70.0   \n",
       "8966  white            savoury snacks     12.5    8.0    5.0    70.0   \n",
       "8967  white           chicken, turkey     12.5    8.0    5.0    70.0   \n",
       "8968  white                party wine     12.5    8.0    5.0    70.0   \n",
       "\n",
       "                                                   text  \\\n",
       "13    Crisp and fruity whites are dry, medium-dry or...   \n",
       "14    Crisp and fruity whites are dry, medium-dry or...   \n",
       "15    Crisp and fruity whites are dry, medium-dry or...   \n",
       "16    Smooth and fruity reds are medium-bodied or fu...   \n",
       "23    Luscious and jammy reds are medium-bodied, ful...   \n",
       "...                                                 ...   \n",
       "8964  Crisp and fruity whites are dry, medium-dry or...   \n",
       "8965  Crisp and fruity whites are dry, medium-dry or...   \n",
       "8966  Crisp and fruity whites are dry, medium-dry or...   \n",
       "8967  Crisp and fruity whites are dry, medium-dry or...   \n",
       "8968  Crisp and fruity whites are dry, medium-dry or...   \n",
       "\n",
       "                                               topNotch  \\\n",
       "13    Medium sweet, acidic, ripe honey melon notes, ...   \n",
       "14    Medium sweet, acidic, ripe honey melon notes, ...   \n",
       "15    Medium sweet, acidic, ripe honey melon notes, ...   \n",
       "16    Medium-bodied, medium tannic, berry notes, che...   \n",
       "23    Full-bodied, medium tannic, boysenberry notes,...   \n",
       "...                                                 ...   \n",
       "8964  Medium dry, medium acidic, ripe pear notes, ap...   \n",
       "8965  Medium dry, medium acidic, ripe pear notes, ap...   \n",
       "8966  Medium dry, medium acidic, ripe pear notes, ap...   \n",
       "8967  Medium dry, medium acidic, ripe pear notes, ap...   \n",
       "8968  Medium dry, medium acidic, ripe pear notes, ap...   \n",
       "\n",
       "                                                   tips  acid  bodied  dry  \\\n",
       "13    These wines are an excellent match for savoury...     2       3    2   \n",
       "14    These wines are an excellent match for savoury...     2       3    2   \n",
       "15    These wines are an excellent match for savoury...     2       3    2   \n",
       "16    These versatile players of the red wine world ...     2       3    2   \n",
       "23    Wines with rich flavours and aromas are a good...     2       3    2   \n",
       "...                                                 ...   ...     ...  ...   \n",
       "8964  These wines are an excellent match for savoury...     2       3    2   \n",
       "8965  These wines are an excellent match for savoury...     2       3    2   \n",
       "8966  These wines are an excellent match for savoury...     2       3    2   \n",
       "8967  These wines are an excellent match for savoury...     2       3    2   \n",
       "8968  These wines are an excellent match for savoury...     2       2    2   \n",
       "\n",
       "      sweet  tannic  \n",
       "13        4       4  \n",
       "14        4       4  \n",
       "15        4       4  \n",
       "16        0       4  \n",
       "23        0       4  \n",
       "...     ...     ...  \n",
       "8964      0       4  \n",
       "8965      0       4  \n",
       "8966      0       4  \n",
       "8967      0       4  \n",
       "8968      0       2  \n",
       "\n",
       "[4984 rows x 14 columns]"
      ],
      "text/html": "<div>\n<style scoped>\n    .dataframe tbody tr th:only-of-type {\n        vertical-align: middle;\n    }\n\n    .dataframe tbody tr th {\n        vertical-align: top;\n    }\n\n    .dataframe thead th {\n        text-align: right;\n    }\n</style>\n<table border=\"1\" class=\"dataframe\">\n  <thead>\n    <tr style=\"text-align: right;\">\n      <th></th>\n      <th>type</th>\n      <th>pair</th>\n      <th>ALCOHOL</th>\n      <th>SUGAR</th>\n      <th>ACIDS</th>\n      <th>ENERGY</th>\n      <th>text</th>\n      <th>topNotch</th>\n      <th>tips</th>\n      <th>acid</th>\n      <th>bodied</th>\n      <th>dry</th>\n      <th>sweet</th>\n      <th>tannic</th>\n    </tr>\n  </thead>\n  <tbody>\n    <tr>\n      <th>13</th>\n      <td>box</td>\n      <td>party wine</td>\n      <td>7.5</td>\n      <td>40.0</td>\n      <td>7.3</td>\n      <td>60.0</td>\n      <td>Crisp and fruity whites are dry, medium-dry or...</td>\n      <td>Medium sweet, acidic, ripe honey melon notes, ...</td>\n      <td>These wines are an excellent match for savoury...</td>\n      <td>2</td>\n      <td>3</td>\n      <td>2</td>\n      <td>4</td>\n      <td>4</td>\n    </tr>\n    <tr>\n      <th>14</th>\n      <td>box</td>\n      <td>salads, vegetarian food</td>\n      <td>7.5</td>\n      <td>40.0</td>\n      <td>7.3</td>\n      <td>60.0</td>\n      <td>Crisp and fruity whites are dry, medium-dry or...</td>\n      <td>Medium sweet, acidic, ripe honey melon notes, ...</td>\n      <td>These wines are an excellent match for savoury...</td>\n      <td>2</td>\n      <td>3</td>\n      <td>2</td>\n      <td>4</td>\n      <td>4</td>\n    </tr>\n    <tr>\n      <th>15</th>\n      <td>box</td>\n      <td>oriental food</td>\n      <td>7.5</td>\n      <td>40.0</td>\n      <td>7.3</td>\n      <td>60.0</td>\n      <td>Crisp and fruity whites are dry, medium-dry or...</td>\n      <td>Medium sweet, acidic, ripe honey melon notes, ...</td>\n      <td>These wines are an excellent match for savoury...</td>\n      <td>2</td>\n      <td>3</td>\n      <td>2</td>\n      <td>4</td>\n      <td>4</td>\n    </tr>\n    <tr>\n      <th>16</th>\n      <td>box</td>\n      <td>mild sausages</td>\n      <td>12.5</td>\n      <td>5.0</td>\n      <td>5.1</td>\n      <td>70.0</td>\n      <td>Smooth and fruity reds are medium-bodied or fu...</td>\n      <td>Medium-bodied, medium tannic, berry notes, che...</td>\n      <td>These versatile players of the red wine world ...</td>\n      <td>2</td>\n      <td>3</td>\n      <td>2</td>\n      <td>0</td>\n      <td>4</td>\n    </tr>\n    <tr>\n      <th>23</th>\n      <td>box</td>\n      <td>spicy and meaty sausages</td>\n      <td>14.0</td>\n      <td>8.0</td>\n      <td>5.5</td>\n      <td>80.0</td>\n      <td>Luscious and jammy reds are medium-bodied, ful...</td>\n      <td>Full-bodied, medium tannic, boysenberry notes,...</td>\n      <td>Wines with rich flavours and aromas are a good...</td>\n      <td>2</td>\n      <td>3</td>\n      <td>2</td>\n      <td>0</td>\n      <td>4</td>\n    </tr>\n    <tr>\n      <th>...</th>\n      <td>...</td>\n      <td>...</td>\n      <td>...</td>\n      <td>...</td>\n      <td>...</td>\n      <td>...</td>\n      <td>...</td>\n      <td>...</td>\n      <td>...</td>\n      <td>...</td>\n      <td>...</td>\n      <td>...</td>\n      <td>...</td>\n      <td>...</td>\n    </tr>\n    <tr>\n      <th>8964</th>\n      <td>white</td>\n      <td>metal screw cap</td>\n      <td>12.5</td>\n      <td>8.0</td>\n      <td>5.0</td>\n      <td>70.0</td>\n      <td>Crisp and fruity whites are dry, medium-dry or...</td>\n      <td>Medium dry, medium acidic, ripe pear notes, ap...</td>\n      <td>These wines are an excellent match for savoury...</td>\n      <td>2</td>\n      <td>3</td>\n      <td>2</td>\n      <td>0</td>\n      <td>4</td>\n    </tr>\n    <tr>\n      <th>8965</th>\n      <td>white</td>\n      <td>salads, vegetarian food</td>\n      <td>12.5</td>\n      <td>8.0</td>\n      <td>5.0</td>\n      <td>70.0</td>\n      <td>Crisp and fruity whites are dry, medium-dry or...</td>\n      <td>Medium dry, medium acidic, ripe pear notes, ap...</td>\n      <td>These wines are an excellent match for savoury...</td>\n      <td>2</td>\n      <td>3</td>\n      <td>2</td>\n      <td>0</td>\n      <td>4</td>\n    </tr>\n    <tr>\n      <th>8966</th>\n      <td>white</td>\n      <td>savoury snacks</td>\n      <td>12.5</td>\n      <td>8.0</td>\n      <td>5.0</td>\n      <td>70.0</td>\n      <td>Crisp and fruity whites are dry, medium-dry or...</td>\n      <td>Medium dry, medium acidic, ripe pear notes, ap...</td>\n      <td>These wines are an excellent match for savoury...</td>\n      <td>2</td>\n      <td>3</td>\n      <td>2</td>\n      <td>0</td>\n      <td>4</td>\n    </tr>\n    <tr>\n      <th>8967</th>\n      <td>white</td>\n      <td>chicken, turkey</td>\n      <td>12.5</td>\n      <td>8.0</td>\n      <td>5.0</td>\n      <td>70.0</td>\n      <td>Crisp and fruity whites are dry, medium-dry or...</td>\n      <td>Medium dry, medium acidic, ripe pear notes, ap...</td>\n      <td>These wines are an excellent match for savoury...</td>\n      <td>2</td>\n      <td>3</td>\n      <td>2</td>\n      <td>0</td>\n      <td>4</td>\n    </tr>\n    <tr>\n      <th>8968</th>\n      <td>white</td>\n      <td>party wine</td>\n      <td>12.5</td>\n      <td>8.0</td>\n      <td>5.0</td>\n      <td>70.0</td>\n      <td>Crisp and fruity whites are dry, medium-dry or...</td>\n      <td>Medium dry, medium acidic, ripe pear notes, ap...</td>\n      <td>These wines are an excellent match for savoury...</td>\n      <td>2</td>\n      <td>2</td>\n      <td>2</td>\n      <td>0</td>\n      <td>2</td>\n    </tr>\n  </tbody>\n</table>\n<p>4984 rows × 14 columns</p>\n</div>"
     },
     "metadata": {},
     "execution_count": 56
    }
   ],
   "source": [
    "df[df['dry'] != 0]"
   ]
  },
  {
   "cell_type": "code",
   "execution_count": 57,
   "metadata": {},
   "outputs": [],
   "source": [
    "df2 = pd.read_excel(\"rip.xlsx\")\n",
    "df2 = df2.fillna(0)"
   ]
  },
  {
   "cell_type": "code",
   "execution_count": 58,
   "metadata": {},
   "outputs": [],
   "source": [
    "df['floral'] = 0\n",
    "df['citrus fruit'] = 0\n",
    "df['stone fruit'] = 0\n",
    "df['tropical fruit'] = 0\n",
    "df['red fruit'] = 0\n",
    "df['black fruit'] = 0\n",
    "df['honey'] = 0\n",
    "df['herbal'] = 0\n",
    "df['bitter'] = 0\n",
    "df['mineral'] = 0\n",
    "df['creamy'] = 0\n",
    "df['spice'] = 0\n",
    "df['earthy'] = 0\n",
    "df['baking spice'] = 0\n",
    "df['leather'] = 0\n",
    "df['astringent'] = 0\n",
    "df['apple/pear'] = 0\n",
    "df['melon'] = 0\n",
    "df['buttery'] = 0\n",
    "df['pastry'] = 0\n",
    "df['nut'] = 0\n",
    "df['chemical/medicinal'] = 0\n",
    "df['wood'] = 0\n",
    "df['smoky'] = 0"
   ]
  },
  {
   "cell_type": "code",
   "execution_count": 59,
   "metadata": {},
   "outputs": [
    {
     "output_type": "execute_result",
     "data": {
      "text/plain": [
       "Index(['taste', 'floral', 'citrus fruit', 'stone fruit', 'tropical fruit',\n",
       "       'red fruit', 'black fruit', 'honey', 'herbal', 'bitter', 'mineral',\n",
       "       'creamy', 'spice', 'earthy', 'baking spice', 'leather', 'astringent',\n",
       "       'apple/pear', 'melon', 'buttery', 'pastry', 'nut', 'chemical/medicinal',\n",
       "       'wood', 'smoky'],\n",
       "      dtype='object')"
      ]
     },
     "metadata": {},
     "execution_count": 59
    }
   ],
   "source": [
    "df2.columns"
   ]
  },
  {
   "cell_type": "code",
   "execution_count": 60,
   "metadata": {},
   "outputs": [
    {
     "output_type": "error",
     "ename": "UFuncTypeError",
     "evalue": "ufunc 'add' did not contain a loop with signature matching types (dtype('<U21'), dtype('<U21')) -> dtype('<U21')",
     "traceback": [
      "\u001b[1;31m---------------------------------------------------------------------------\u001b[0m",
      "\u001b[1;31mUFuncTypeError\u001b[0m                            Traceback (most recent call last)",
      "\u001b[1;32m~\\AppData\\Roaming\\Python\\Python38\\site-packages\\pandas\\core\\ops\\array_ops.py\u001b[0m in \u001b[0;36m_na_arithmetic_op\u001b[1;34m(left, right, op, is_cmp)\u001b[0m\n\u001b[0;32m    141\u001b[0m     \u001b[1;32mtry\u001b[0m\u001b[1;33m:\u001b[0m\u001b[1;33m\u001b[0m\u001b[1;33m\u001b[0m\u001b[0m\n\u001b[1;32m--> 142\u001b[1;33m         \u001b[0mresult\u001b[0m \u001b[1;33m=\u001b[0m \u001b[0mexpressions\u001b[0m\u001b[1;33m.\u001b[0m\u001b[0mevaluate\u001b[0m\u001b[1;33m(\u001b[0m\u001b[0mop\u001b[0m\u001b[1;33m,\u001b[0m \u001b[0mleft\u001b[0m\u001b[1;33m,\u001b[0m \u001b[0mright\u001b[0m\u001b[1;33m)\u001b[0m\u001b[1;33m\u001b[0m\u001b[1;33m\u001b[0m\u001b[0m\n\u001b[0m\u001b[0;32m    143\u001b[0m     \u001b[1;32mexcept\u001b[0m \u001b[0mTypeError\u001b[0m\u001b[1;33m:\u001b[0m\u001b[1;33m\u001b[0m\u001b[1;33m\u001b[0m\u001b[0m\n",
      "\u001b[1;32m~\\AppData\\Roaming\\Python\\Python38\\site-packages\\pandas\\core\\computation\\expressions.py\u001b[0m in \u001b[0;36mevaluate\u001b[1;34m(op, a, b, use_numexpr)\u001b[0m\n\u001b[0;32m    234\u001b[0m             \u001b[1;31m# error: \"None\" not callable\u001b[0m\u001b[1;33m\u001b[0m\u001b[1;33m\u001b[0m\u001b[1;33m\u001b[0m\u001b[0m\n\u001b[1;32m--> 235\u001b[1;33m             \u001b[1;32mreturn\u001b[0m \u001b[0m_evaluate\u001b[0m\u001b[1;33m(\u001b[0m\u001b[0mop\u001b[0m\u001b[1;33m,\u001b[0m \u001b[0mop_str\u001b[0m\u001b[1;33m,\u001b[0m \u001b[0ma\u001b[0m\u001b[1;33m,\u001b[0m \u001b[0mb\u001b[0m\u001b[1;33m)\u001b[0m  \u001b[1;31m# type: ignore[misc]\u001b[0m\u001b[1;33m\u001b[0m\u001b[1;33m\u001b[0m\u001b[0m\n\u001b[0m\u001b[0;32m    236\u001b[0m     \u001b[1;32mreturn\u001b[0m \u001b[0m_evaluate_standard\u001b[0m\u001b[1;33m(\u001b[0m\u001b[0mop\u001b[0m\u001b[1;33m,\u001b[0m \u001b[0mop_str\u001b[0m\u001b[1;33m,\u001b[0m \u001b[0ma\u001b[0m\u001b[1;33m,\u001b[0m \u001b[0mb\u001b[0m\u001b[1;33m)\u001b[0m\u001b[1;33m\u001b[0m\u001b[1;33m\u001b[0m\u001b[0m\n",
      "\u001b[1;32m~\\AppData\\Roaming\\Python\\Python38\\site-packages\\pandas\\core\\computation\\expressions.py\u001b[0m in \u001b[0;36m_evaluate_numexpr\u001b[1;34m(op, op_str, a, b)\u001b[0m\n\u001b[0;32m    119\u001b[0m     \u001b[1;32mif\u001b[0m \u001b[0mresult\u001b[0m \u001b[1;32mis\u001b[0m \u001b[1;32mNone\u001b[0m\u001b[1;33m:\u001b[0m\u001b[1;33m\u001b[0m\u001b[1;33m\u001b[0m\u001b[0m\n\u001b[1;32m--> 120\u001b[1;33m         \u001b[0mresult\u001b[0m \u001b[1;33m=\u001b[0m \u001b[0m_evaluate_standard\u001b[0m\u001b[1;33m(\u001b[0m\u001b[0mop\u001b[0m\u001b[1;33m,\u001b[0m \u001b[0mop_str\u001b[0m\u001b[1;33m,\u001b[0m \u001b[0ma\u001b[0m\u001b[1;33m,\u001b[0m \u001b[0mb\u001b[0m\u001b[1;33m)\u001b[0m\u001b[1;33m\u001b[0m\u001b[1;33m\u001b[0m\u001b[0m\n\u001b[0m\u001b[0;32m    121\u001b[0m \u001b[1;33m\u001b[0m\u001b[0m\n",
      "\u001b[1;32m~\\AppData\\Roaming\\Python\\Python38\\site-packages\\pandas\\core\\computation\\expressions.py\u001b[0m in \u001b[0;36m_evaluate_standard\u001b[1;34m(op, op_str, a, b)\u001b[0m\n\u001b[0;32m     68\u001b[0m     \u001b[1;32mwith\u001b[0m \u001b[0mnp\u001b[0m\u001b[1;33m.\u001b[0m\u001b[0merrstate\u001b[0m\u001b[1;33m(\u001b[0m\u001b[0mall\u001b[0m\u001b[1;33m=\u001b[0m\u001b[1;34m\"ignore\"\u001b[0m\u001b[1;33m)\u001b[0m\u001b[1;33m:\u001b[0m\u001b[1;33m\u001b[0m\u001b[1;33m\u001b[0m\u001b[0m\n\u001b[1;32m---> 69\u001b[1;33m         \u001b[1;32mreturn\u001b[0m \u001b[0mop\u001b[0m\u001b[1;33m(\u001b[0m\u001b[0ma\u001b[0m\u001b[1;33m,\u001b[0m \u001b[0mb\u001b[0m\u001b[1;33m)\u001b[0m\u001b[1;33m\u001b[0m\u001b[1;33m\u001b[0m\u001b[0m\n\u001b[0m\u001b[0;32m     70\u001b[0m \u001b[1;33m\u001b[0m\u001b[0m\n",
      "\u001b[1;31mUFuncTypeError\u001b[0m: ufunc 'add' did not contain a loop with signature matching types (dtype('<U21'), dtype('<U21')) -> dtype('<U21')",
      "\nDuring handling of the above exception, another exception occurred:\n",
      "\u001b[1;31mUFuncTypeError\u001b[0m                            Traceback (most recent call last)",
      "\u001b[1;32m<ipython-input-60-684b1b4afce5>\u001b[0m in \u001b[0;36m<module>\u001b[1;34m\u001b[0m\n\u001b[0;32m      6\u001b[0m             \u001b[0mxx\u001b[0m \u001b[1;33m=\u001b[0m \u001b[0mdf2\u001b[0m\u001b[1;33m[\u001b[0m\u001b[0mdf2\u001b[0m\u001b[1;33m[\u001b[0m\u001b[1;34m'taste'\u001b[0m\u001b[1;33m]\u001b[0m \u001b[1;33m==\u001b[0m \u001b[0mx\u001b[0m\u001b[1;33m]\u001b[0m\u001b[1;33m\u001b[0m\u001b[1;33m\u001b[0m\u001b[0m\n\u001b[0;32m      7\u001b[0m             \u001b[1;32mfor\u001b[0m \u001b[0mcolumn\u001b[0m \u001b[1;32min\u001b[0m \u001b[0mxx\u001b[0m\u001b[1;33m.\u001b[0m\u001b[0mcolumns\u001b[0m\u001b[1;33m[\u001b[0m\u001b[1;36m1\u001b[0m\u001b[1;33m:\u001b[0m\u001b[1;33m]\u001b[0m\u001b[1;33m:\u001b[0m\u001b[1;33m\u001b[0m\u001b[1;33m\u001b[0m\u001b[0m\n\u001b[1;32m----> 8\u001b[1;33m                 \u001b[0mdf\u001b[0m\u001b[1;33m.\u001b[0m\u001b[0mat\u001b[0m\u001b[1;33m[\u001b[0m\u001b[0mindex\u001b[0m\u001b[1;33m,\u001b[0m\u001b[0mcolumn\u001b[0m\u001b[1;33m]\u001b[0m \u001b[1;33m+=\u001b[0m \u001b[0mxx\u001b[0m\u001b[1;33m[\u001b[0m\u001b[0mcolumn\u001b[0m\u001b[1;33m]\u001b[0m\u001b[1;33m.\u001b[0m\u001b[0msum\u001b[0m\u001b[1;33m(\u001b[0m\u001b[1;33m)\u001b[0m\u001b[1;33m\u001b[0m\u001b[1;33m\u001b[0m\u001b[0m\n\u001b[0m",
      "\u001b[1;32m~\\AppData\\Roaming\\Python\\Python38\\site-packages\\pandas\\core\\generic.py\u001b[0m in \u001b[0;36m__iadd__\u001b[1;34m(self, other)\u001b[0m\n\u001b[0;32m  11329\u001b[0m \u001b[1;33m\u001b[0m\u001b[0m\n\u001b[0;32m  11330\u001b[0m     \u001b[1;32mdef\u001b[0m \u001b[0m__iadd__\u001b[0m\u001b[1;33m(\u001b[0m\u001b[0mself\u001b[0m\u001b[1;33m,\u001b[0m \u001b[0mother\u001b[0m\u001b[1;33m)\u001b[0m\u001b[1;33m:\u001b[0m\u001b[1;33m\u001b[0m\u001b[1;33m\u001b[0m\u001b[0m\n\u001b[1;32m> 11331\u001b[1;33m         \u001b[1;32mreturn\u001b[0m \u001b[0mself\u001b[0m\u001b[1;33m.\u001b[0m\u001b[0m_inplace_method\u001b[0m\u001b[1;33m(\u001b[0m\u001b[0mother\u001b[0m\u001b[1;33m,\u001b[0m \u001b[0mtype\u001b[0m\u001b[1;33m(\u001b[0m\u001b[0mself\u001b[0m\u001b[1;33m)\u001b[0m\u001b[1;33m.\u001b[0m\u001b[0m__add__\u001b[0m\u001b[1;33m)\u001b[0m  \u001b[1;31m# type: ignore[operator]\u001b[0m\u001b[1;33m\u001b[0m\u001b[1;33m\u001b[0m\u001b[0m\n\u001b[0m\u001b[0;32m  11332\u001b[0m \u001b[1;33m\u001b[0m\u001b[0m\n\u001b[0;32m  11333\u001b[0m     \u001b[1;32mdef\u001b[0m \u001b[0m__isub__\u001b[0m\u001b[1;33m(\u001b[0m\u001b[0mself\u001b[0m\u001b[1;33m,\u001b[0m \u001b[0mother\u001b[0m\u001b[1;33m)\u001b[0m\u001b[1;33m:\u001b[0m\u001b[1;33m\u001b[0m\u001b[1;33m\u001b[0m\u001b[0m\n",
      "\u001b[1;32m~\\AppData\\Roaming\\Python\\Python38\\site-packages\\pandas\\core\\generic.py\u001b[0m in \u001b[0;36m_inplace_method\u001b[1;34m(self, other, op)\u001b[0m\n\u001b[0;32m  11307\u001b[0m         \u001b[0mWrap\u001b[0m \u001b[0marithmetic\u001b[0m \u001b[0mmethod\u001b[0m \u001b[0mto\u001b[0m \u001b[0moperate\u001b[0m \u001b[0minplace\u001b[0m\u001b[1;33m.\u001b[0m\u001b[1;33m\u001b[0m\u001b[1;33m\u001b[0m\u001b[0m\n\u001b[0;32m  11308\u001b[0m         \"\"\"\n\u001b[1;32m> 11309\u001b[1;33m         \u001b[0mresult\u001b[0m \u001b[1;33m=\u001b[0m \u001b[0mop\u001b[0m\u001b[1;33m(\u001b[0m\u001b[0mself\u001b[0m\u001b[1;33m,\u001b[0m \u001b[0mother\u001b[0m\u001b[1;33m)\u001b[0m\u001b[1;33m\u001b[0m\u001b[1;33m\u001b[0m\u001b[0m\n\u001b[0m\u001b[0;32m  11310\u001b[0m \u001b[1;33m\u001b[0m\u001b[0m\n\u001b[0;32m  11311\u001b[0m         if (\n",
      "\u001b[1;32m~\\AppData\\Roaming\\Python\\Python38\\site-packages\\pandas\\core\\ops\\common.py\u001b[0m in \u001b[0;36mnew_method\u001b[1;34m(self, other)\u001b[0m\n\u001b[0;32m     63\u001b[0m         \u001b[0mother\u001b[0m \u001b[1;33m=\u001b[0m \u001b[0mitem_from_zerodim\u001b[0m\u001b[1;33m(\u001b[0m\u001b[0mother\u001b[0m\u001b[1;33m)\u001b[0m\u001b[1;33m\u001b[0m\u001b[1;33m\u001b[0m\u001b[0m\n\u001b[0;32m     64\u001b[0m \u001b[1;33m\u001b[0m\u001b[0m\n\u001b[1;32m---> 65\u001b[1;33m         \u001b[1;32mreturn\u001b[0m \u001b[0mmethod\u001b[0m\u001b[1;33m(\u001b[0m\u001b[0mself\u001b[0m\u001b[1;33m,\u001b[0m \u001b[0mother\u001b[0m\u001b[1;33m)\u001b[0m\u001b[1;33m\u001b[0m\u001b[1;33m\u001b[0m\u001b[0m\n\u001b[0m\u001b[0;32m     66\u001b[0m \u001b[1;33m\u001b[0m\u001b[0m\n\u001b[0;32m     67\u001b[0m     \u001b[1;32mreturn\u001b[0m \u001b[0mnew_method\u001b[0m\u001b[1;33m\u001b[0m\u001b[1;33m\u001b[0m\u001b[0m\n",
      "\u001b[1;32m~\\AppData\\Roaming\\Python\\Python38\\site-packages\\pandas\\core\\arraylike.py\u001b[0m in \u001b[0;36m__add__\u001b[1;34m(self, other)\u001b[0m\n\u001b[0;32m     87\u001b[0m     \u001b[1;33m@\u001b[0m\u001b[0munpack_zerodim_and_defer\u001b[0m\u001b[1;33m(\u001b[0m\u001b[1;34m\"__add__\"\u001b[0m\u001b[1;33m)\u001b[0m\u001b[1;33m\u001b[0m\u001b[1;33m\u001b[0m\u001b[0m\n\u001b[0;32m     88\u001b[0m     \u001b[1;32mdef\u001b[0m \u001b[0m__add__\u001b[0m\u001b[1;33m(\u001b[0m\u001b[0mself\u001b[0m\u001b[1;33m,\u001b[0m \u001b[0mother\u001b[0m\u001b[1;33m)\u001b[0m\u001b[1;33m:\u001b[0m\u001b[1;33m\u001b[0m\u001b[1;33m\u001b[0m\u001b[0m\n\u001b[1;32m---> 89\u001b[1;33m         \u001b[1;32mreturn\u001b[0m \u001b[0mself\u001b[0m\u001b[1;33m.\u001b[0m\u001b[0m_arith_method\u001b[0m\u001b[1;33m(\u001b[0m\u001b[0mother\u001b[0m\u001b[1;33m,\u001b[0m \u001b[0moperator\u001b[0m\u001b[1;33m.\u001b[0m\u001b[0madd\u001b[0m\u001b[1;33m)\u001b[0m\u001b[1;33m\u001b[0m\u001b[1;33m\u001b[0m\u001b[0m\n\u001b[0m\u001b[0;32m     90\u001b[0m \u001b[1;33m\u001b[0m\u001b[0m\n\u001b[0;32m     91\u001b[0m     \u001b[1;33m@\u001b[0m\u001b[0munpack_zerodim_and_defer\u001b[0m\u001b[1;33m(\u001b[0m\u001b[1;34m\"__radd__\"\u001b[0m\u001b[1;33m)\u001b[0m\u001b[1;33m\u001b[0m\u001b[1;33m\u001b[0m\u001b[0m\n",
      "\u001b[1;32m~\\AppData\\Roaming\\Python\\Python38\\site-packages\\pandas\\core\\series.py\u001b[0m in \u001b[0;36m_arith_method\u001b[1;34m(self, other, op)\u001b[0m\n\u001b[0;32m   4996\u001b[0m         \u001b[0mlvalues\u001b[0m \u001b[1;33m=\u001b[0m \u001b[0mextract_array\u001b[0m\u001b[1;33m(\u001b[0m\u001b[0mself\u001b[0m\u001b[1;33m,\u001b[0m \u001b[0mextract_numpy\u001b[0m\u001b[1;33m=\u001b[0m\u001b[1;32mTrue\u001b[0m\u001b[1;33m)\u001b[0m\u001b[1;33m\u001b[0m\u001b[1;33m\u001b[0m\u001b[0m\n\u001b[0;32m   4997\u001b[0m         \u001b[0mrvalues\u001b[0m \u001b[1;33m=\u001b[0m \u001b[0mextract_array\u001b[0m\u001b[1;33m(\u001b[0m\u001b[0mother\u001b[0m\u001b[1;33m,\u001b[0m \u001b[0mextract_numpy\u001b[0m\u001b[1;33m=\u001b[0m\u001b[1;32mTrue\u001b[0m\u001b[1;33m)\u001b[0m\u001b[1;33m\u001b[0m\u001b[1;33m\u001b[0m\u001b[0m\n\u001b[1;32m-> 4998\u001b[1;33m         \u001b[0mresult\u001b[0m \u001b[1;33m=\u001b[0m \u001b[0mops\u001b[0m\u001b[1;33m.\u001b[0m\u001b[0marithmetic_op\u001b[0m\u001b[1;33m(\u001b[0m\u001b[0mlvalues\u001b[0m\u001b[1;33m,\u001b[0m \u001b[0mrvalues\u001b[0m\u001b[1;33m,\u001b[0m \u001b[0mop\u001b[0m\u001b[1;33m)\u001b[0m\u001b[1;33m\u001b[0m\u001b[1;33m\u001b[0m\u001b[0m\n\u001b[0m\u001b[0;32m   4999\u001b[0m \u001b[1;33m\u001b[0m\u001b[0m\n\u001b[0;32m   5000\u001b[0m         \u001b[1;32mreturn\u001b[0m \u001b[0mself\u001b[0m\u001b[1;33m.\u001b[0m\u001b[0m_construct_result\u001b[0m\u001b[1;33m(\u001b[0m\u001b[0mresult\u001b[0m\u001b[1;33m,\u001b[0m \u001b[0mname\u001b[0m\u001b[1;33m=\u001b[0m\u001b[0mres_name\u001b[0m\u001b[1;33m)\u001b[0m\u001b[1;33m\u001b[0m\u001b[1;33m\u001b[0m\u001b[0m\n",
      "\u001b[1;32m~\\AppData\\Roaming\\Python\\Python38\\site-packages\\pandas\\core\\ops\\array_ops.py\u001b[0m in \u001b[0;36marithmetic_op\u001b[1;34m(left, right, op)\u001b[0m\n\u001b[0;32m    187\u001b[0m     \u001b[1;32melse\u001b[0m\u001b[1;33m:\u001b[0m\u001b[1;33m\u001b[0m\u001b[1;33m\u001b[0m\u001b[0m\n\u001b[0;32m    188\u001b[0m         \u001b[1;32mwith\u001b[0m \u001b[0mnp\u001b[0m\u001b[1;33m.\u001b[0m\u001b[0merrstate\u001b[0m\u001b[1;33m(\u001b[0m\u001b[0mall\u001b[0m\u001b[1;33m=\u001b[0m\u001b[1;34m\"ignore\"\u001b[0m\u001b[1;33m)\u001b[0m\u001b[1;33m:\u001b[0m\u001b[1;33m\u001b[0m\u001b[1;33m\u001b[0m\u001b[0m\n\u001b[1;32m--> 189\u001b[1;33m             \u001b[0mres_values\u001b[0m \u001b[1;33m=\u001b[0m \u001b[0m_na_arithmetic_op\u001b[0m\u001b[1;33m(\u001b[0m\u001b[0mlvalues\u001b[0m\u001b[1;33m,\u001b[0m \u001b[0mrvalues\u001b[0m\u001b[1;33m,\u001b[0m \u001b[0mop\u001b[0m\u001b[1;33m)\u001b[0m\u001b[1;33m\u001b[0m\u001b[1;33m\u001b[0m\u001b[0m\n\u001b[0m\u001b[0;32m    190\u001b[0m \u001b[1;33m\u001b[0m\u001b[0m\n\u001b[0;32m    191\u001b[0m     \u001b[1;32mreturn\u001b[0m \u001b[0mres_values\u001b[0m\u001b[1;33m\u001b[0m\u001b[1;33m\u001b[0m\u001b[0m\n",
      "\u001b[1;32m~\\AppData\\Roaming\\Python\\Python38\\site-packages\\pandas\\core\\ops\\array_ops.py\u001b[0m in \u001b[0;36m_na_arithmetic_op\u001b[1;34m(left, right, op, is_cmp)\u001b[0m\n\u001b[0;32m    147\u001b[0m             \u001b[1;31m#  will handle complex numbers incorrectly, see GH#32047\u001b[0m\u001b[1;33m\u001b[0m\u001b[1;33m\u001b[0m\u001b[1;33m\u001b[0m\u001b[0m\n\u001b[0;32m    148\u001b[0m             \u001b[1;32mraise\u001b[0m\u001b[1;33m\u001b[0m\u001b[1;33m\u001b[0m\u001b[0m\n\u001b[1;32m--> 149\u001b[1;33m         \u001b[0mresult\u001b[0m \u001b[1;33m=\u001b[0m \u001b[0m_masked_arith_op\u001b[0m\u001b[1;33m(\u001b[0m\u001b[0mleft\u001b[0m\u001b[1;33m,\u001b[0m \u001b[0mright\u001b[0m\u001b[1;33m,\u001b[0m \u001b[0mop\u001b[0m\u001b[1;33m)\u001b[0m\u001b[1;33m\u001b[0m\u001b[1;33m\u001b[0m\u001b[0m\n\u001b[0m\u001b[0;32m    150\u001b[0m \u001b[1;33m\u001b[0m\u001b[0m\n\u001b[0;32m    151\u001b[0m     \u001b[1;32mif\u001b[0m \u001b[0mis_cmp\u001b[0m \u001b[1;32mand\u001b[0m \u001b[1;33m(\u001b[0m\u001b[0mis_scalar\u001b[0m\u001b[1;33m(\u001b[0m\u001b[0mresult\u001b[0m\u001b[1;33m)\u001b[0m \u001b[1;32mor\u001b[0m \u001b[0mresult\u001b[0m \u001b[1;32mis\u001b[0m \u001b[0mNotImplemented\u001b[0m\u001b[1;33m)\u001b[0m\u001b[1;33m:\u001b[0m\u001b[1;33m\u001b[0m\u001b[1;33m\u001b[0m\u001b[0m\n",
      "\u001b[1;32m~\\AppData\\Roaming\\Python\\Python38\\site-packages\\pandas\\core\\ops\\array_ops.py\u001b[0m in \u001b[0;36m_masked_arith_op\u001b[1;34m(x, y, op)\u001b[0m\n\u001b[0;32m    109\u001b[0m         \u001b[1;32mif\u001b[0m \u001b[0mmask\u001b[0m\u001b[1;33m.\u001b[0m\u001b[0many\u001b[0m\u001b[1;33m(\u001b[0m\u001b[1;33m)\u001b[0m\u001b[1;33m:\u001b[0m\u001b[1;33m\u001b[0m\u001b[1;33m\u001b[0m\u001b[0m\n\u001b[0;32m    110\u001b[0m             \u001b[1;32mwith\u001b[0m \u001b[0mnp\u001b[0m\u001b[1;33m.\u001b[0m\u001b[0merrstate\u001b[0m\u001b[1;33m(\u001b[0m\u001b[0mall\u001b[0m\u001b[1;33m=\u001b[0m\u001b[1;34m\"ignore\"\u001b[0m\u001b[1;33m)\u001b[0m\u001b[1;33m:\u001b[0m\u001b[1;33m\u001b[0m\u001b[1;33m\u001b[0m\u001b[0m\n\u001b[1;32m--> 111\u001b[1;33m                 \u001b[0mresult\u001b[0m\u001b[1;33m[\u001b[0m\u001b[0mmask\u001b[0m\u001b[1;33m]\u001b[0m \u001b[1;33m=\u001b[0m \u001b[0mop\u001b[0m\u001b[1;33m(\u001b[0m\u001b[0mxrav\u001b[0m\u001b[1;33m[\u001b[0m\u001b[0mmask\u001b[0m\u001b[1;33m]\u001b[0m\u001b[1;33m,\u001b[0m \u001b[0my\u001b[0m\u001b[1;33m)\u001b[0m\u001b[1;33m\u001b[0m\u001b[1;33m\u001b[0m\u001b[0m\n\u001b[0m\u001b[0;32m    112\u001b[0m \u001b[1;33m\u001b[0m\u001b[0m\n\u001b[0;32m    113\u001b[0m     \u001b[0mresult\u001b[0m\u001b[1;33m,\u001b[0m \u001b[0m_\u001b[0m \u001b[1;33m=\u001b[0m \u001b[0mmaybe_upcast_putmask\u001b[0m\u001b[1;33m(\u001b[0m\u001b[0mresult\u001b[0m\u001b[1;33m,\u001b[0m \u001b[1;33m~\u001b[0m\u001b[0mmask\u001b[0m\u001b[1;33m,\u001b[0m \u001b[0mnp\u001b[0m\u001b[1;33m.\u001b[0m\u001b[0mnan\u001b[0m\u001b[1;33m)\u001b[0m\u001b[1;33m\u001b[0m\u001b[1;33m\u001b[0m\u001b[0m\n",
      "\u001b[1;31mUFuncTypeError\u001b[0m: ufunc 'add' did not contain a loop with signature matching types (dtype('<U21'), dtype('<U21')) -> dtype('<U21')"
     ]
    }
   ],
   "source": [
    "for index, row in df.iterrows():\n",
    "    notches = row['topNotch'].split(',')\n",
    "    for n in notches:\n",
    "        if \"notes\" in n or \"aromas\" in n or \"hint\" in n:\n",
    "            x = n.replace(\"notes\",\"\").replace(\"aromas\",\"\").replace(\"hint\",\"\").strip()\n",
    "            xx = df2[df2['taste'] == x]\n",
    "            for column in xx.columns[1:]:\n",
    "                try:\n",
    "                    df.at[index,column] += xx[column].sum()\n",
    "                except:\n",
    "                    df.at[index,column] += 0"
   ]
  },
  {
   "cell_type": "code",
   "execution_count": 49,
   "metadata": {},
   "outputs": [
    {
     "output_type": "execute_result",
     "data": {
      "text/plain": [
       "  type             pair  ALCOHOL  SUGAR  ACIDS  ENERGY  \\\n",
       "0  box       casseroles     15.0    3.0    5.2    80.0   \n",
       "1  box  pasta and pizza     15.0    3.0    5.2    80.0   \n",
       "2  box       party wine     15.0    3.0    5.2    80.0   \n",
       "3  box             beef     15.0    3.0    5.2    80.0   \n",
       "4  box  chicken, turkey     12.0   16.0    4.9    70.0   \n",
       "\n",
       "                                                text  \\\n",
       "0  Luscious and jammy reds are medium-bodied, ful...   \n",
       "1  Luscious and jammy reds are medium-bodied, ful...   \n",
       "2  Luscious and jammy reds are medium-bodied, ful...   \n",
       "3  Luscious and jammy reds are medium-bodied, ful...   \n",
       "4  Mellow and sweet whites are medium-dry or even...   \n",
       "\n",
       "                                            topNotch  \\\n",
       "0  Full-bodied, medium tannic, blackberry notes, ...   \n",
       "1  Full-bodied, medium tannic, blackberry notes, ...   \n",
       "2  Full-bodied, medium tannic, blackberry notes, ...   \n",
       "3  Full-bodied, medium tannic, blackberry notes, ...   \n",
       "4  Medium sweet, medium acidic, honey melon notes...   \n",
       "\n",
       "                                                tips  acid  ...  leather  \\\n",
       "0  Wines with rich flavours and aromas are a good...     3  ...      0.0   \n",
       "1  Wines with rich flavours and aromas are a good...     3  ...      0.0   \n",
       "2  Wines with rich flavours and aromas are a good...     3  ...      0.0   \n",
       "3  Wines with rich flavours and aromas are a good...     3  ...      0.0   \n",
       "4  These wines are all characterised by delicious...     3  ...      0.0   \n",
       "\n",
       "   astringent  apple/pear  melon  buttery  pastry  nut  chemical/medicinal  \\\n",
       "0         2.0         0.0    0.0      0.0     0.0  0.0                 0.0   \n",
       "1         2.0         0.0    0.0      0.0     0.0  0.0                 0.0   \n",
       "2         2.0         0.0    0.0      0.0     0.0  0.0                 0.0   \n",
       "3         2.0         0.0    0.0      0.0     0.0  0.0                 0.0   \n",
       "4         0.0         0.0    1.0      0.0     0.0  0.0                 0.0   \n",
       "\n",
       "   wood  smoky  \n",
       "0   0.0    0.0  \n",
       "1   0.0    0.0  \n",
       "2   0.0    0.0  \n",
       "3   0.0    0.0  \n",
       "4   0.0    0.0  \n",
       "\n",
       "[5 rows x 38 columns]"
      ],
      "text/html": "<div>\n<style scoped>\n    .dataframe tbody tr th:only-of-type {\n        vertical-align: middle;\n    }\n\n    .dataframe tbody tr th {\n        vertical-align: top;\n    }\n\n    .dataframe thead th {\n        text-align: right;\n    }\n</style>\n<table border=\"1\" class=\"dataframe\">\n  <thead>\n    <tr style=\"text-align: right;\">\n      <th></th>\n      <th>type</th>\n      <th>pair</th>\n      <th>ALCOHOL</th>\n      <th>SUGAR</th>\n      <th>ACIDS</th>\n      <th>ENERGY</th>\n      <th>text</th>\n      <th>topNotch</th>\n      <th>tips</th>\n      <th>acid</th>\n      <th>...</th>\n      <th>leather</th>\n      <th>astringent</th>\n      <th>apple/pear</th>\n      <th>melon</th>\n      <th>buttery</th>\n      <th>pastry</th>\n      <th>nut</th>\n      <th>chemical/medicinal</th>\n      <th>wood</th>\n      <th>smoky</th>\n    </tr>\n  </thead>\n  <tbody>\n    <tr>\n      <th>0</th>\n      <td>box</td>\n      <td>casseroles</td>\n      <td>15.0</td>\n      <td>3.0</td>\n      <td>5.2</td>\n      <td>80.0</td>\n      <td>Luscious and jammy reds are medium-bodied, ful...</td>\n      <td>Full-bodied, medium tannic, blackberry notes, ...</td>\n      <td>Wines with rich flavours and aromas are a good...</td>\n      <td>3</td>\n      <td>...</td>\n      <td>0.0</td>\n      <td>2.0</td>\n      <td>0.0</td>\n      <td>0.0</td>\n      <td>0.0</td>\n      <td>0.0</td>\n      <td>0.0</td>\n      <td>0.0</td>\n      <td>0.0</td>\n      <td>0.0</td>\n    </tr>\n    <tr>\n      <th>1</th>\n      <td>box</td>\n      <td>pasta and pizza</td>\n      <td>15.0</td>\n      <td>3.0</td>\n      <td>5.2</td>\n      <td>80.0</td>\n      <td>Luscious and jammy reds are medium-bodied, ful...</td>\n      <td>Full-bodied, medium tannic, blackberry notes, ...</td>\n      <td>Wines with rich flavours and aromas are a good...</td>\n      <td>3</td>\n      <td>...</td>\n      <td>0.0</td>\n      <td>2.0</td>\n      <td>0.0</td>\n      <td>0.0</td>\n      <td>0.0</td>\n      <td>0.0</td>\n      <td>0.0</td>\n      <td>0.0</td>\n      <td>0.0</td>\n      <td>0.0</td>\n    </tr>\n    <tr>\n      <th>2</th>\n      <td>box</td>\n      <td>party wine</td>\n      <td>15.0</td>\n      <td>3.0</td>\n      <td>5.2</td>\n      <td>80.0</td>\n      <td>Luscious and jammy reds are medium-bodied, ful...</td>\n      <td>Full-bodied, medium tannic, blackberry notes, ...</td>\n      <td>Wines with rich flavours and aromas are a good...</td>\n      <td>3</td>\n      <td>...</td>\n      <td>0.0</td>\n      <td>2.0</td>\n      <td>0.0</td>\n      <td>0.0</td>\n      <td>0.0</td>\n      <td>0.0</td>\n      <td>0.0</td>\n      <td>0.0</td>\n      <td>0.0</td>\n      <td>0.0</td>\n    </tr>\n    <tr>\n      <th>3</th>\n      <td>box</td>\n      <td>beef</td>\n      <td>15.0</td>\n      <td>3.0</td>\n      <td>5.2</td>\n      <td>80.0</td>\n      <td>Luscious and jammy reds are medium-bodied, ful...</td>\n      <td>Full-bodied, medium tannic, blackberry notes, ...</td>\n      <td>Wines with rich flavours and aromas are a good...</td>\n      <td>3</td>\n      <td>...</td>\n      <td>0.0</td>\n      <td>2.0</td>\n      <td>0.0</td>\n      <td>0.0</td>\n      <td>0.0</td>\n      <td>0.0</td>\n      <td>0.0</td>\n      <td>0.0</td>\n      <td>0.0</td>\n      <td>0.0</td>\n    </tr>\n    <tr>\n      <th>4</th>\n      <td>box</td>\n      <td>chicken, turkey</td>\n      <td>12.0</td>\n      <td>16.0</td>\n      <td>4.9</td>\n      <td>70.0</td>\n      <td>Mellow and sweet whites are medium-dry or even...</td>\n      <td>Medium sweet, medium acidic, honey melon notes...</td>\n      <td>These wines are all characterised by delicious...</td>\n      <td>3</td>\n      <td>...</td>\n      <td>0.0</td>\n      <td>0.0</td>\n      <td>0.0</td>\n      <td>1.0</td>\n      <td>0.0</td>\n      <td>0.0</td>\n      <td>0.0</td>\n      <td>0.0</td>\n      <td>0.0</td>\n      <td>0.0</td>\n    </tr>\n  </tbody>\n</table>\n<p>5 rows × 38 columns</p>\n</div>"
     },
     "metadata": {},
     "execution_count": 49
    }
   ],
   "source": [
    "df.head()"
   ]
  },
  {
   "cell_type": "code",
   "execution_count": null,
   "metadata": {},
   "outputs": [],
   "source": [
    "df.to_csv(\"dataset_all_cleaned_2.csv\")"
   ]
  }
 ]
}
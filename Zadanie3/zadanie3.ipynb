{
 "metadata": {
  "language_info": {
   "codemirror_mode": {
    "name": "ipython",
    "version": 3
   },
   "file_extension": ".py",
   "mimetype": "text/x-python",
   "name": "python",
   "nbconvert_exporter": "python",
   "pygments_lexer": "ipython3",
   "version": "3.8.3"
  },
  "orig_nbformat": 2,
  "kernelspec": {
   "name": "python383jvsc74a57bd0b3ba2566441a7c06988d0923437866b63cedc61552a5af99d1f4fb67d367b25f",
   "display_name": "Python 3.8.3 64-bit (conda)"
  }
 },
 "nbformat": 4,
 "nbformat_minor": 2,
 "cells": [
  {
   "cell_type": "code",
   "execution_count": 347,
   "metadata": {},
   "outputs": [],
   "source": [
    "# python imports\n",
    "%matplotlib inline\n",
    "import matplotlib.pyplot as plt\n",
    "import numpy as np\n",
    "import pandas as pd\n",
    "import seaborn as sns\n",
    "from sklearn import preprocessing\n",
    "from sklearn.model_selection import train_test_split\n",
    "from sklearn.utils import shuffle\n",
    "import math\n",
    "import wandb\n",
    "import time"
   ]
  },
  {
   "cell_type": "code",
   "execution_count": 348,
   "metadata": {},
   "outputs": [],
   "source": [
    "#torch imports\n",
    "import torch\n",
    "import torch.nn as nn\n",
    "import torch.nn.functional as F\n",
    "import torch.optim as optim\n",
    "from torch.autograd import Variable"
   ]
  },
  {
   "cell_type": "code",
   "execution_count": 349,
   "metadata": {},
   "outputs": [],
   "source": [
    "df = pd.read_csv(\"dataset_done.csv\",index_col=0)\n",
    "df = df.drop(columns={\"index\"})"
   ]
  },
  {
   "cell_type": "code",
   "execution_count": 350,
   "metadata": {},
   "outputs": [
    {
     "output_type": "execute_result",
     "data": {
      "text/plain": [
       "   ALCOHOL  SUGAR  ACIDS  ENERGY  acid  bodied  dry  sweet  tannic  floral  \\\n",
       "0     15.0    3.0    5.2    80.0     0       3    0      0       2       0   \n",
       "1     15.0    3.0    5.2    80.0     0       3    0      0       2       0   \n",
       "2     15.0    3.0    5.2    80.0     0       3    0      0       2       0   \n",
       "3     15.0    3.0    5.2    80.0     0       3    0      0       2       0   \n",
       "4     12.0   16.0    4.9    70.0     2       0    0      2       0       0   \n",
       "\n",
       "   ...  dairy_food  fatty_food  lamb_food  nutty_food  box  desert  red  rose  \\\n",
       "0  ...           0           1          1           0    1       0    0     0   \n",
       "1  ...           1           0          0           1    1       0    0     0   \n",
       "2  ...           0           0          0           0    1       0    0     0   \n",
       "3  ...           0           0          0           0    1       0    0     0   \n",
       "4  ...           0           0          0           0    1       0    0     0   \n",
       "\n",
       "   sparkling  white  \n",
       "0          0      0  \n",
       "1          0      0  \n",
       "2          0      0  \n",
       "3          0      0  \n",
       "4          0      0  \n",
       "\n",
       "[5 rows x 55 columns]"
      ],
      "text/html": "<div>\n<style scoped>\n    .dataframe tbody tr th:only-of-type {\n        vertical-align: middle;\n    }\n\n    .dataframe tbody tr th {\n        vertical-align: top;\n    }\n\n    .dataframe thead th {\n        text-align: right;\n    }\n</style>\n<table border=\"1\" class=\"dataframe\">\n  <thead>\n    <tr style=\"text-align: right;\">\n      <th></th>\n      <th>ALCOHOL</th>\n      <th>SUGAR</th>\n      <th>ACIDS</th>\n      <th>ENERGY</th>\n      <th>acid</th>\n      <th>bodied</th>\n      <th>dry</th>\n      <th>sweet</th>\n      <th>tannic</th>\n      <th>floral</th>\n      <th>...</th>\n      <th>dairy_food</th>\n      <th>fatty_food</th>\n      <th>lamb_food</th>\n      <th>nutty_food</th>\n      <th>box</th>\n      <th>desert</th>\n      <th>red</th>\n      <th>rose</th>\n      <th>sparkling</th>\n      <th>white</th>\n    </tr>\n  </thead>\n  <tbody>\n    <tr>\n      <th>0</th>\n      <td>15.0</td>\n      <td>3.0</td>\n      <td>5.2</td>\n      <td>80.0</td>\n      <td>0</td>\n      <td>3</td>\n      <td>0</td>\n      <td>0</td>\n      <td>2</td>\n      <td>0</td>\n      <td>...</td>\n      <td>0</td>\n      <td>1</td>\n      <td>1</td>\n      <td>0</td>\n      <td>1</td>\n      <td>0</td>\n      <td>0</td>\n      <td>0</td>\n      <td>0</td>\n      <td>0</td>\n    </tr>\n    <tr>\n      <th>1</th>\n      <td>15.0</td>\n      <td>3.0</td>\n      <td>5.2</td>\n      <td>80.0</td>\n      <td>0</td>\n      <td>3</td>\n      <td>0</td>\n      <td>0</td>\n      <td>2</td>\n      <td>0</td>\n      <td>...</td>\n      <td>1</td>\n      <td>0</td>\n      <td>0</td>\n      <td>1</td>\n      <td>1</td>\n      <td>0</td>\n      <td>0</td>\n      <td>0</td>\n      <td>0</td>\n      <td>0</td>\n    </tr>\n    <tr>\n      <th>2</th>\n      <td>15.0</td>\n      <td>3.0</td>\n      <td>5.2</td>\n      <td>80.0</td>\n      <td>0</td>\n      <td>3</td>\n      <td>0</td>\n      <td>0</td>\n      <td>2</td>\n      <td>0</td>\n      <td>...</td>\n      <td>0</td>\n      <td>0</td>\n      <td>0</td>\n      <td>0</td>\n      <td>1</td>\n      <td>0</td>\n      <td>0</td>\n      <td>0</td>\n      <td>0</td>\n      <td>0</td>\n    </tr>\n    <tr>\n      <th>3</th>\n      <td>15.0</td>\n      <td>3.0</td>\n      <td>5.2</td>\n      <td>80.0</td>\n      <td>0</td>\n      <td>3</td>\n      <td>0</td>\n      <td>0</td>\n      <td>2</td>\n      <td>0</td>\n      <td>...</td>\n      <td>0</td>\n      <td>0</td>\n      <td>0</td>\n      <td>0</td>\n      <td>1</td>\n      <td>0</td>\n      <td>0</td>\n      <td>0</td>\n      <td>0</td>\n      <td>0</td>\n    </tr>\n    <tr>\n      <th>4</th>\n      <td>12.0</td>\n      <td>16.0</td>\n      <td>4.9</td>\n      <td>70.0</td>\n      <td>2</td>\n      <td>0</td>\n      <td>0</td>\n      <td>2</td>\n      <td>0</td>\n      <td>0</td>\n      <td>...</td>\n      <td>0</td>\n      <td>0</td>\n      <td>0</td>\n      <td>0</td>\n      <td>1</td>\n      <td>0</td>\n      <td>0</td>\n      <td>0</td>\n      <td>0</td>\n      <td>0</td>\n    </tr>\n  </tbody>\n</table>\n<p>5 rows × 55 columns</p>\n</div>"
     },
     "metadata": {},
     "execution_count": 350
    }
   ],
   "source": [
    "df.head()"
   ]
  },
  {
   "cell_type": "code",
   "execution_count": 351,
   "metadata": {},
   "outputs": [],
   "source": [
    "class CycleGenerator(nn.Module):\n",
    "    \"\"\"\n",
    "    Generator for CycleGAN\n",
    "    \"\"\"\n",
    "    def __init__(self, input_channels, output_channels,hidden):\n",
    "        super().__init__()\n",
    "        filters = 16\n",
    "\n",
    "        # net\n",
    "        modules = [nn.Linear(input_channels, hidden),\n",
    "                   nn.ReLU(),\n",
    "                   nn.Linear(hidden, hidden),\n",
    "                   nn.ReLU(),\n",
    "                   nn.Linear(hidden, hidden),\n",
    "                   nn.ReLU(),\n",
    "                   nn.Linear(hidden, hidden),\n",
    "                   nn.ReLU(),\n",
    "                   nn.Linear(hidden, output_channels),\n",
    "                   nn.ReLU()]\n",
    "\n",
    "        self.net = nn.Sequential(*modules)\n",
    "\n",
    "    def forward(self, x):\n",
    "        return self.net(x)\n"
   ]
  },
  {
   "cell_type": "code",
   "execution_count": 352,
   "metadata": {},
   "outputs": [],
   "source": [
    "class CycleDiscriminator(nn.Module):\n",
    "    \"\"\"\n",
    "    Discriminator for CycleGAN\n",
    "    \"\"\"\n",
    "\n",
    "    def __init__(self, input_channels,hidden):\n",
    "        super().__init__()\n",
    "\n",
    "        self.net = nn.Sequential(\n",
    "           nn.Linear(input_channels, hidden),\n",
    "                   nn.ReLU(),\n",
    "                   nn.Linear(hidden, hidden),\n",
    "                   nn.ReLU(),\n",
    "                   nn.Linear(hidden, hidden),\n",
    "                   nn.ReLU(),\n",
    "                   nn.Linear(hidden, 1),\n",
    "                   nn.Sigmoid())\n",
    "\n",
    "    def forward(self, x):\n",
    "        return self.net(x)\n"
   ]
  },
  {
   "cell_type": "code",
   "execution_count": 353,
   "metadata": {},
   "outputs": [],
   "source": [
    "food_columns = [x for x in df.columns if \"food\" in x   ]\n",
    "wine_columns = [x for x in df.columns if \"food\" not in x   ]"
   ]
  },
  {
   "cell_type": "code",
   "execution_count": 367,
   "metadata": {},
   "outputs": [
    {
     "output_type": "execute_result",
     "data": {
      "text/plain": [
       "['fish_food',\n",
       " 'desserts_food',\n",
       " 'fruit_food',\n",
       " 'vegetables_food',\n",
       " 'sweet_food',\n",
       " 'salty_food',\n",
       " 'sour_food',\n",
       " 'bitter_food',\n",
       " 'beef_food',\n",
       " 'poultry_food',\n",
       " 'game_food',\n",
       " 'pork_food',\n",
       " 'dairy_food',\n",
       " 'fatty_food',\n",
       " 'lamb_food',\n",
       " 'nutty_food']"
      ]
     },
     "metadata": {},
     "execution_count": 367
    }
   ],
   "source": [
    "food_columns"
   ]
  },
  {
   "cell_type": "code",
   "execution_count": 354,
   "metadata": {},
   "outputs": [
    {
     "output_type": "execute_result",
     "data": {
      "text/plain": [
       "['ALCOHOL',\n",
       " 'SUGAR',\n",
       " 'ACIDS',\n",
       " 'ENERGY',\n",
       " 'acid',\n",
       " 'bodied',\n",
       " 'dry',\n",
       " 'sweet',\n",
       " 'tannic',\n",
       " 'floral',\n",
       " 'citrus fruit',\n",
       " 'stone fruit',\n",
       " 'tropical fruit',\n",
       " 'red fruit',\n",
       " 'black fruit',\n",
       " 'honey',\n",
       " 'herbal',\n",
       " 'bitter',\n",
       " 'mineral',\n",
       " 'creamy',\n",
       " 'spice',\n",
       " 'earthy',\n",
       " 'baking spice',\n",
       " 'leather',\n",
       " 'astringent',\n",
       " 'apple/pear',\n",
       " 'melon',\n",
       " 'buttery',\n",
       " 'pastry',\n",
       " 'nut',\n",
       " 'chemical/medicinal',\n",
       " 'wood',\n",
       " 'smoky',\n",
       " 'box',\n",
       " 'desert',\n",
       " 'red',\n",
       " 'rose',\n",
       " 'sparkling',\n",
       " 'white']"
      ]
     },
     "metadata": {},
     "execution_count": 354
    }
   ],
   "source": [
    "wine_columns"
   ]
  },
  {
   "cell_type": "code",
   "execution_count": 364,
   "metadata": {},
   "outputs": [],
   "source": [
    "def train_cycle_gan():\n",
    "\n",
    "    start_time = time.time()\n",
    "\n",
    "    food_data = df[food_columns]\n",
    "    wine_data = df[wine_columns]\n",
    "\n",
    "    print(\"[INFO] Setting up\")\n",
    "    n_epochs = 20\n",
    "    food_data = torch.from_numpy(food_data.to_numpy()).float().cuda()\n",
    "    wine_data = torch.from_numpy(wine_data.to_numpy()).float().cuda()\n",
    "\n",
    "\n",
    "    dataset_params = {'batch_size': 128, 'shuffle': True}\n",
    "    food_loader = torch.utils.data.DataLoader(food_data, **dataset_params)\n",
    "    wine_loader = torch.utils.data.DataLoader(wine_data, **dataset_params)\n",
    "    assert (len(food_data) == len(wine_data))\n",
    "\n",
    "    # Models - Assuming x is food and y is wine\n",
    "    generator_x2y = CycleGenerator(input_channels=len(food_columns), output_channels=len(wine_columns),hidden=20).cuda()\n",
    "    generator_y2x = CycleGenerator(input_channels=len(wine_columns), output_channels=len(food_columns),hidden=20).cuda()\n",
    "    discriminator_x = CycleDiscriminator(input_channels=len(food_columns),hidden=20).cuda()\n",
    "    discriminator_y = CycleDiscriminator(input_channels=len(wine_columns),hidden=20).cuda()\n",
    "\n",
    "    generator_optimizer = torch.optim.Adam(list(generator_x2y.parameters()) + list(generator_y2x.parameters()), lr=2e-4,\n",
    "                                           betas=(0.5, 0.999))\n",
    "    discriminator_x_optimizer = torch.optim.Adam(discriminator_x.parameters(), lr=2e-4, betas=(0.5, 0.999))\n",
    "    discriminator_y_optimizer = torch.optim.Adam(discriminator_y.parameters(), lr=2e-4, betas=(0.5, 0.999))\n",
    "\n",
    "    # Schedulers\n",
    "    num_batches = len(food_loader)\n",
    "    max_steps = max(1, n_epochs * num_batches)\n",
    "\n",
    "    def scheduler(epoch):\n",
    "        return max(0, (max_steps - epoch * num_batches) / max_steps)\n",
    "\n",
    "    generator_scheduler = optim.lr_scheduler.LambdaLR(generator_optimizer, scheduler)\n",
    "    discriminator_x_scheduler = optim.lr_scheduler.LambdaLR(discriminator_x_optimizer, scheduler)\n",
    "    discriminator_y_scheduler = optim.lr_scheduler.LambdaLR(discriminator_y_optimizer, scheduler)\n",
    "    # Training\n",
    "    print(\"[INFO] Training discriminator, generator and encoder\")\n",
    "    mse_loss = nn.MSELoss()\n",
    "    l1_loss = nn.L1Loss()\n",
    "    zeros, ones = torch.tensor(0.).cuda(), torch.tensor(1.).cuda()\n",
    "    cycle_lambda = 10\n",
    "\n",
    "    for epoch in range(n_epochs):\n",
    "        epoch_start = time.time()\n",
    "        for x_batch, y_batch in zip(food_loader, wine_loader):\n",
    "            # Training generators x2y and y2x\n",
    "            x_fake = generator_y2x(y_batch)\n",
    "            d_x_fake = discriminator_x(x_fake)\n",
    "            generator_x_loss = mse_loss(d_x_fake, ones)\n",
    "            \n",
    "            y_fake = generator_x2y(x_batch)\n",
    "            d_y_fake = discriminator_y(y_fake)\n",
    "            generator_y_loss = mse_loss(d_y_fake, ones)\n",
    "            \n",
    "            x_recovered = generator_y2x(y_fake)\n",
    "            y_recovered = generator_x2y(x_fake)\n",
    "            cycle_loss = l1_loss(x_recovered, x_batch) + l1_loss(y_recovered, y_batch)\n",
    "            \n",
    "            generator_loss = generator_x_loss + generator_y_loss + cycle_lambda * cycle_loss\n",
    "            generator_optimizer.zero_grad()\n",
    "            generator_loss.backward()\n",
    "            generator_optimizer.step()                \n",
    "            \n",
    "            # Training discriminator for x\n",
    "            x_fake = generator_y2x(y_batch)\n",
    "            d_x_fake = discriminator_x(x_fake)\n",
    "            d_x_true = discriminator_x(x_batch)\n",
    "            discriminator_x_loss = mse_loss(d_x_true, ones ) + mse_loss(d_x_fake, zeros)\n",
    "            \n",
    "            discriminator_x_optimizer.zero_grad()\n",
    "            discriminator_x_loss.backward()\n",
    "            discriminator_x_optimizer.step()\n",
    "\n",
    "            # Training discriminator for y\n",
    "            y_fake = generator_x2y(x_batch)\n",
    "            d_y_fake = discriminator_y(y_fake)\n",
    "            d_y_true = discriminator_y(y_batch)\n",
    "            discriminator_y_loss = mse_loss(d_y_true, ones) + mse_loss(d_y_fake, zeros)\n",
    "\n",
    "            discriminator_y_optimizer.zero_grad()\n",
    "            discriminator_y_loss.backward()\n",
    "            discriminator_y_optimizer.step()\n",
    "        generator_scheduler.step()\n",
    "        discriminator_x_scheduler.step()\n",
    "        discriminator_y_scheduler.step()\n",
    "\n",
    "        print(f\"[{100*(epoch+1)/n_epochs:.2f}%] Epoch {epoch + 1} - Time elapsed: {time.time() - epoch_start:.2f} - GENERATOR LOSS : {generator_loss} - CYCLELOSS : {cycle_loss}\")\n",
    "\n",
    "    # Generating samples\n",
    "    generator_x2y.eval()\n",
    "    generator_y2x.eval()\n",
    "    discriminator_x.eval()\n",
    "    discriminator_y.eval()\n",
    "    with torch.no_grad():\n",
    "        print(\"[INFO] Creating samples\")\n",
    "        food_samples = food_data[:20]\n",
    "        food2wine = generator_x2y(food_samples)\n",
    "        food_recovered = generator_y2x(generator_x2y(food_samples))\n",
    "\n",
    "        wine_samples = wine_data[:20]\n",
    "        wine2food = generator_y2x(wine_samples)\n",
    "        wine_recovered = generator_x2y(generator_y2x(wine_samples))\n",
    "\n",
    "        # # Changing to desired output format\n",
    "        # mnist_samples = mnist_samples.permute(0, 2, 3, 1).cpu().numpy()\n",
    "        # mnist2cmnist = mnist2cmnist.permute(0, 2, 3, 1).cpu().numpy()\n",
    "        # mnist_recovered = mnist_recovered.permute(0, 2, 3, 1).cpu().numpy()\n",
    "\n",
    "        # cmnist_samples = cmnist_samples.permute(0, 2, 3, 1).cpu().numpy()\n",
    "        # cmnist2mnist = cmnist2mnist.permute(0, 2, 3, 1).cpu().numpy()\n",
    "        # cmnist_recovered = cmnist_recovered.permute(0, 2, 3, 1).cpu().numpy()\n",
    "\n",
    "    print(f\"[DONE] Time elapsed: {time.time() - start_time:.2f} s\")\n",
    "    return food_samples, food2wine, food_recovered, wine_samples, wine2food, wine_recovered"
   ]
  },
  {
   "cell_type": "code",
   "execution_count": 366,
   "metadata": {
    "tags": []
   },
   "outputs": [
    {
     "output_type": "stream",
     "name": "stdout",
     "text": [
      "[INFO] Setting up\n",
      "[INFO] Training discriminator, generator and encoder\n",
      "[5.00%] Epoch 1 - Time elapsed: 3.07 - GENERATOR LOSS : 31.23317527770996 - CYCLELOSS : 3.0238101482391357\n",
      "[10.00%] Epoch 2 - Time elapsed: 3.00 - GENERATOR LOSS : 12.833194732666016 - CYCLELOSS : 1.1464786529541016\n",
      "[15.00%] Epoch 3 - Time elapsed: 2.98 - GENERATOR LOSS : 14.691238403320312 - CYCLELOSS : 1.3165349960327148\n",
      "[20.00%] Epoch 4 - Time elapsed: 2.99 - GENERATOR LOSS : 11.262306213378906 - CYCLELOSS : 0.9566847681999207\n",
      "[25.00%] Epoch 5 - Time elapsed: 2.99 - GENERATOR LOSS : 12.727082252502441 - CYCLELOSS : 1.0937271118164062\n",
      "[30.00%] Epoch 6 - Time elapsed: 3.06 - GENERATOR LOSS : 12.812178611755371 - CYCLELOSS : 1.0965116024017334\n",
      "[35.00%] Epoch 7 - Time elapsed: 3.08 - GENERATOR LOSS : 11.804898262023926 - CYCLELOSS : 0.9918487071990967\n",
      "[40.00%] Epoch 8 - Time elapsed: 3.04 - GENERATOR LOSS : 12.589426040649414 - CYCLELOSS : 1.0689287185668945\n",
      "[45.00%] Epoch 9 - Time elapsed: 3.04 - GENERATOR LOSS : 13.252010345458984 - CYCLELOSS : 1.1334062814712524\n",
      "[50.00%] Epoch 10 - Time elapsed: 3.08 - GENERATOR LOSS : 11.985987663269043 - CYCLELOSS : 1.0059643983840942\n",
      "[55.00%] Epoch 11 - Time elapsed: 3.40 - GENERATOR LOSS : 11.686169624328613 - CYCLELOSS : 0.9750598669052124\n",
      "[60.00%] Epoch 12 - Time elapsed: 3.23 - GENERATOR LOSS : 11.600582122802734 - CYCLELOSS : 0.9658865332603455\n",
      "[65.00%] Epoch 13 - Time elapsed: 3.19 - GENERATOR LOSS : 11.534296035766602 - CYCLELOSS : 0.9587400555610657\n",
      "[70.00%] Epoch 14 - Time elapsed: 3.15 - GENERATOR LOSS : 12.369187355041504 - CYCLELOSS : 1.0419880151748657\n",
      "[75.00%] Epoch 15 - Time elapsed: 3.09 - GENERATOR LOSS : 12.734931945800781 - CYCLELOSS : 1.077995777130127\n",
      "[80.00%] Epoch 16 - Time elapsed: 3.09 - GENERATOR LOSS : 13.395356178283691 - CYCLELOSS : 1.144537329673767\n",
      "[85.00%] Epoch 17 - Time elapsed: 3.10 - GENERATOR LOSS : 13.287391662597656 - CYCLELOSS : 1.1329625844955444\n",
      "[90.00%] Epoch 18 - Time elapsed: 3.06 - GENERATOR LOSS : 11.580878257751465 - CYCLELOSS : 0.9621154069900513\n",
      "[95.00%] Epoch 19 - Time elapsed: 3.07 - GENERATOR LOSS : 11.187231063842773 - CYCLELOSS : 0.9228464365005493\n",
      "[100.00%] Epoch 20 - Time elapsed: 3.09 - GENERATOR LOSS : 11.922733306884766 - CYCLELOSS : 0.9962337613105774\n",
      "[INFO] Creating samples\n",
      "[DONE] Time elapsed: 61.82 s\n"
     ]
    }
   ],
   "source": [
    "food_samples, food2wine, food_recovered, wine_samples, wine2food, wine_recovered = train_cycle_gan()"
   ]
  },
  {
   "source": [
    "food2wine[0]"
   ],
   "cell_type": "code",
   "metadata": {},
   "execution_count": 361,
   "outputs": [
    {
     "output_type": "execute_result",
     "data": {
      "text/plain": [
       "tensor([0.6598, 0.0566, 0.3376, 3.8875, 0.0267, 0.0000, 0.0000, 0.0000, 0.0000,\n",
       "        0.0000, 0.0000, 0.0451, 0.0000, 0.0000, 0.0000, 0.0000, 0.0000, 0.0000,\n",
       "        0.0000, 0.0000, 0.0000, 0.0000, 0.0000, 0.0000, 0.0000, 0.0000, 0.0000,\n",
       "        0.0000, 0.0000, 0.0000, 0.0000, 0.0000, 0.0000, 0.0000, 0.0000, 0.0000,\n",
       "        0.0000, 0.0000, 0.0000], device='cuda:0')"
      ]
     },
     "metadata": {},
     "execution_count": 361
    }
   ]
  },
  {
   "cell_type": "code",
   "execution_count": 362,
   "metadata": {},
   "outputs": [
    {
     "output_type": "execute_result",
     "data": {
      "text/plain": [
       "tensor([15.0000,  3.0000,  5.2000, 80.0000,  0.0000,  3.0000,  0.0000,  0.0000,\n",
       "         2.0000,  0.0000,  0.0000,  1.0000,  0.0000,  1.0000,  2.0000,  0.0000,\n",
       "         0.0000,  0.0000,  0.0000,  0.0000,  0.0000,  0.0000,  0.0000,  0.0000,\n",
       "         2.0000,  0.0000,  0.0000,  0.0000,  0.0000,  0.0000,  0.0000,  0.0000,\n",
       "         0.0000,  1.0000,  0.0000,  0.0000,  0.0000,  0.0000,  0.0000],\n",
       "       device='cuda:0')"
      ]
     },
     "metadata": {},
     "execution_count": 362
    }
   ],
   "source": [
    "wine_samples[0]"
   ]
  },
  {
   "cell_type": "code",
   "execution_count": 363,
   "metadata": {},
   "outputs": [
    {
     "output_type": "execute_result",
     "data": {
      "text/plain": [
       "['ALCOHOL',\n",
       " 'SUGAR',\n",
       " 'ACIDS',\n",
       " 'ENERGY',\n",
       " 'acid',\n",
       " 'bodied',\n",
       " 'dry',\n",
       " 'sweet',\n",
       " 'tannic',\n",
       " 'floral',\n",
       " 'citrus fruit',\n",
       " 'stone fruit',\n",
       " 'tropical fruit',\n",
       " 'red fruit',\n",
       " 'black fruit',\n",
       " 'honey',\n",
       " 'herbal',\n",
       " 'bitter',\n",
       " 'mineral',\n",
       " 'creamy',\n",
       " 'spice',\n",
       " 'earthy',\n",
       " 'baking spice',\n",
       " 'leather',\n",
       " 'astringent',\n",
       " 'apple/pear',\n",
       " 'melon',\n",
       " 'buttery',\n",
       " 'pastry',\n",
       " 'nut',\n",
       " 'chemical/medicinal',\n",
       " 'wood',\n",
       " 'smoky',\n",
       " 'box',\n",
       " 'desert',\n",
       " 'red',\n",
       " 'rose',\n",
       " 'sparkling',\n",
       " 'white']"
      ]
     },
     "metadata": {},
     "execution_count": 363
    }
   ],
   "source": [
    "wine_columns"
   ]
  }
 ]
}